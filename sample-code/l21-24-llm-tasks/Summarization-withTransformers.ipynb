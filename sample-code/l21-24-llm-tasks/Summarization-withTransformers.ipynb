{
 "cells": [
  {
   "cell_type": "code",
   "execution_count": 1,
   "id": "ba9424cb",
   "metadata": {},
   "outputs": [],
   "source": [
    "# Based on Huggingface interface\n",
    "# - https://huggingface.co/transformers/notebooks.html\n",
    "# - https://github.com/huggingface/notebooks/blob/master/transformers_doc/quicktour.ipynb\n",
    "# - More examples with LLMs at: https://github.com/biplav-s/course-tai/blob/3a37536b00a0b386d32cb29da61b1ce68f72cfdb/sample-code/l13-l16-supervised-text/l15-langmodel-commontasks.ipynb"
   ]
  },
  {
   "cell_type": "code",
   "execution_count": 2,
   "id": "80c91928",
   "metadata": {},
   "outputs": [],
   "source": [
    "# Transformers installation, if needed\n",
    "#! pip install transformers datasets"
   ]
  },
  {
   "cell_type": "code",
   "execution_count": 3,
   "id": "69bc64a8",
   "metadata": {},
   "outputs": [],
   "source": [
    "# Using Huggingface pipeline abstraction for common tasks\n",
    "# - Pipleine: https://huggingface.co/docs/transformers/main_classes/pipelines\n",
    "# - Summarization: https://huggingface.co/docs/transformers/main/en/task_summary#summarization"
   ]
  },
  {
   "cell_type": "code",
   "execution_count": 4,
   "id": "7456b1c3",
   "metadata": {},
   "outputs": [],
   "source": [
    "# Note: large downloads are done first time a pipeline of a type is run\n",
    "#       - Approx 2GB in this case \n",
    "from transformers import pipeline\n",
    "\n",
    "summarizer = pipeline(\"summarization\")"
   ]
  },
  {
   "cell_type": "code",
   "execution_count": 5,
   "id": "7e0780d3",
   "metadata": {},
   "outputs": [],
   "source": [
    "ARTICLE = \"\"\" New York (CNN)When Liana Barrientos was 23 years old, she got married in Westchester County, New York.\n",
    "A year later, she got married again in Westchester County, but to a different man and without divorcing her first husband.\n",
    "Only 18 days after that marriage, she got hitched yet again. Then, Barrientos declared \"I do\" five more times, sometimes only within two weeks of each other.\n",
    "In 2010, she married once more, this time in the Bronx. In an application for a marriage license, she stated it was her \"first and only\" marriage.\n",
    "Barrientos, now 39, is facing two criminal counts of \"offering a false instrument for filing in the first degree,\" referring to her false statements on the\n",
    "2010 marriage license application, according to court documents.\n",
    "Prosecutors said the marriages were part of an immigration scam.\n",
    "On Friday, she pleaded not guilty at State Supreme Court in the Bronx, according to her attorney, Christopher Wright, who declined to comment further.\n",
    "After leaving court, Barrientos was arrested and charged with theft of service and criminal trespass for allegedly sneaking into the New York subway through an emergency exit, said Detective\n",
    "Annette Markowski, a police spokeswoman. In total, Barrientos has been married 10 times, with nine of her marriages occurring between 1999 and 2002.\n",
    "All occurred either in Westchester County, Long Island, New Jersey or the Bronx. She is believed to still be married to four men, and at one time, she was married to eight men at once, prosecutors say.\n",
    "Prosecutors said the immigration scam involved some of her husbands, who filed for permanent residence status shortly after the marriages.\n",
    "Any divorces happened only after such filings were approved. It was unclear whether any of the men will be prosecuted.\n",
    "The case was referred to the Bronx District Attorney\\'s Office by Immigration and Customs Enforcement and the Department of Homeland Security\\'s\n",
    "Investigation Division. Seven of the men are from so-called \"red-flagged\" countries, including Egypt, Turkey, Georgia, Pakistan and Mali.\n",
    "Her eighth husband, Rashid Rajput, was deported in 2006 to his native Pakistan after an investigation by the Joint Terrorism Task Force.\n",
    "If convicted, Barrientos faces up to four years in prison.  Her next court appearance is scheduled for May 18.\n",
    "\"\"\"\n"
   ]
  },
  {
   "cell_type": "code",
   "execution_count": 6,
   "id": "3be21d9f",
   "metadata": {},
   "outputs": [],
   "source": [
    "# In below, a tokenizer and a pre-trained model is chosen by default"
   ]
  },
  {
   "cell_type": "code",
   "execution_count": 7,
   "id": "0f0256ec",
   "metadata": {},
   "outputs": [
    {
     "name": "stderr",
     "output_type": "stream",
     "text": [
      "/Users/biplavs/opt/anaconda3/lib/python3.7/site-packages/transformers/generation_utils.py:730: UserWarning: __floordiv__ is deprecated, and its behavior will change in a future version of pytorch. It currently rounds toward 0 (like the 'trunc' function NOT 'floor'). This results in incorrect rounding for negative values. To keep the current behavior, use torch.div(a, b, rounding_mode='trunc'), or for actual floor division, use torch.div(a, b, rounding_mode='floor').\n",
      "  beam_id = beam_token_id // vocab_size\n"
     ]
    },
    {
     "name": "stdout",
     "output_type": "stream",
     "text": [
      "[{'summary_text': ' Liana Barrientos, 39, is charged with two counts of \"offering a false instrument for filing in the first degree\" In total, she has been married 10 times, with nine of her marriages occurring between 1999 and 2002 . At one time, she was married to eight men at once, prosecutors say .'}]\n"
     ]
    }
   ],
   "source": [
    "print(summarizer(ARTICLE, max_length=130, min_length=30, do_sample=False))"
   ]
  },
  {
   "cell_type": "code",
   "execution_count": 8,
   "id": "217612ce",
   "metadata": {},
   "outputs": [],
   "source": [
    "# Utility function to calculate words in a string as well as \n",
    "#   given percentage limit. Returns two number\n",
    "#   Credit for idea: https://www.pythonpool.com/python-count-words-in-string/ \n",
    "def calculate_words_limits_in_article(str, perc_limit):\n",
    "    num = len(str.strip().split(\" \"))\n",
    "    return num, (int) (num * (perc_limit / 100))"
   ]
  },
  {
   "cell_type": "code",
   "execution_count": 9,
   "id": "bcc075c5",
   "metadata": {},
   "outputs": [
    {
     "name": "stdout",
     "output_type": "stream",
     "text": [
      "354 35\n"
     ]
    }
   ],
   "source": [
    "article_size, p = calculate_words_limits_in_article(ARTICLE, 10)\n",
    "print(article_size, p)"
   ]
  },
  {
   "cell_type": "code",
   "execution_count": 10,
   "id": "6adf7215",
   "metadata": {},
   "outputs": [],
   "source": [
    "# Utility function to summarize content based on given percentage\n",
    "# Minimum 30 words will be used. \n",
    "def summarize_given_perc(ARTICLE, perc):\n",
    "    article_size, wsize = calculate_words_limits_in_article(ARTICLE, perc)\n",
    "    print(f\"article size = {article_size}, calculated word limit = {wsize}\")\n",
    "    return summarizer(ARTICLE, max_length=wsize, min_length=30, do_sample=False)"
   ]
  },
  {
   "cell_type": "code",
   "execution_count": 11,
   "id": "9755eb65",
   "metadata": {},
   "outputs": [
    {
     "name": "stdout",
     "output_type": "stream",
     "text": [
      "article size = 354, calculated word limit = 177\n",
      "[{'summary_text': ' Liana Barrientos, 39, is charged with two counts of \"offering a false instrument for filing in the first degree\" In total, she has been married 10 times, with nine of her marriages occurring between 1999 and 2002 . At one time, she was married to eight men at once, prosecutors say .'}]\n"
     ]
    }
   ],
   "source": [
    "print(summarize_given_perc(ARTICLE, 50))"
   ]
  },
  {
   "cell_type": "code",
   "execution_count": 12,
   "id": "42f71866",
   "metadata": {},
   "outputs": [
    {
     "name": "stdout",
     "output_type": "stream",
     "text": [
      "article size = 354, calculated word limit = 35\n",
      "[{'summary_text': ' Liana Barrientos, 39, is charged with two counts of \"offering a false instrument for filing in the first degree\" In total, she has'}]\n"
     ]
    }
   ],
   "source": [
    "print(summarize_given_perc(ARTICLE, 10))"
   ]
  },
  {
   "cell_type": "code",
   "execution_count": 13,
   "id": "573ba7e6",
   "metadata": {},
   "outputs": [],
   "source": [
    "# From: https://github.com/biplav-s/course-nl/blob/master/common-data/Example-TDBank-PersonalAcctAgree.txt\n",
    "\n",
    "ARTICLE = \"\"\" Returned Checks/Waiver of Rights \n",
    "If you deposit a check or item in your Account that the drawee \n",
    "bank returns unpaid for any reason (called “dishonor”), we may \n",
    "put the check or item through for collection again. This means \n",
    "that you are waiving your right to receive immediate notice of \n",
    "dishonor. If the check or item is dishonored for any reason, the \n",
    "amount of the dishonored check or item will be deducted from \n",
    "your Account. You agree to pay the Bank a fee for any such \n",
    "check or item that is dishonored (see Personal Fee Schedule). The \n",
    "Bank may also collect any amounts due to the Bank because of \n",
    "returned checks, through the right of set-off, from any other of \n",
    "your Accounts at the Bank, or collect the funds directly from you.\n",
    "\"\"\"\n"
   ]
  },
  {
   "cell_type": "code",
   "execution_count": 14,
   "id": "45fb00d6",
   "metadata": {},
   "outputs": [
    {
     "name": "stdout",
     "output_type": "stream",
     "text": [
      "article size = 131, calculated word limit = 65\n",
      "[{'summary_text': ' If you deposit a check or item in your Account that the drawee  purposefullybank returns unpaid for any reason (called “dishonor”), we may  put the check through for collection again . This means  that you are waiving your right to receive immediate notice of “'}]\n"
     ]
    }
   ],
   "source": [
    "print(summarize_given_perc(ARTICLE, 50))"
   ]
  },
  {
   "cell_type": "code",
   "execution_count": 15,
   "id": "e74dda9e",
   "metadata": {},
   "outputs": [
    {
     "name": "stdout",
     "output_type": "stream",
     "text": [
      "article size = 131, calculated word limit = 13\n",
      "[{'summary_text': ' If you deposit a check or item in your Account,'}]\n"
     ]
    }
   ],
   "source": [
    "print(summarize_given_perc(ARTICLE, 10))"
   ]
  },
  {
   "cell_type": "code",
   "execution_count": 16,
   "id": "953725cb",
   "metadata": {},
   "outputs": [],
   "source": [
    "# From: https://github.com/biplav-s/course-nl/blob/master/common-data/Example-TDBank-PersonalAcctAgree.txt\n",
    "\n",
    "ARTICLE = '''\n",
    "For (i) Checking Accounts and (ii) Money Market Accounts \n",
    "with check access, items are processed as follows: \n",
    "\n",
    "a) First, items, including both deposits and withdrawals, are \n",
    "added to and deducted from your available Account balance \n",
    "in chronological date and time order based on the information \n",
    "that we receive for each item. The following transaction fees \n",
    "also will be deducted in date and time order based on when \n",
    "they are assessed: wire transfer fees, deposit return fees, \n",
    "returned item fees, and overdraft fees. For some items, we do \n",
    "not receive date and time information. We assign these items \n",
    "a date and time, which may vary from when the transactions \n",
    "were conducted.  All checks drawn upon your account that \n",
    "are not cashed at a TD Bank Store are assigned a time of \n",
    "11pm on the date we receive them.  If multiple items have the \n",
    "same date and time information, they will be processed in the \n",
    "following order: (i) deposits first; (ii) checks drawn upon your \n",
    "account next, from lowest to highest check number, and then \n",
    "(iii) other withdrawals, from lowest to highest dollar amount. \n",
    "For purposes of this section (a), withdrawals include \n",
    "transactions that have been presented for payment as well as \n",
    "pending debit card, ATM or electronic transactions that have \n",
    "been authorized but not yet presented to us for payment. \n",
    "Please see the additional details below for more information \n",
    "regarding pending transactions. Deposits are made available \n",
    "to you in accordance with our Funds Availability Policy. \n",
    "\n",
    "b) Second, we add to or deduct from your available Account \n",
    "balance any interest credits or fees not described in (a) above. \n",
    "Examples of these fees include non-TD ATM fees, monthly \n",
    "maintenance fees, and overdraft protection transfer fees.  \n",
    "\n",
    "For (i) Savings Accounts, (ii) Money Market Accounts with \n",
    "no check access, and (iii) CD Accounts, items are processed \n",
    "as follows: \n",
    "\n",
    "a) First, deposits that have become available to you that Business \n",
    "Day in accordance with our Funds Availability Policy are added \n",
    "to your available Account balance. \n",
    "\n",
    "b) Next, the total amount of any “pending” debit card, ATM and \n",
    "other electronic transactions that have been authorized but \n",
    "not yet presented to us for payment is deducted from your \n",
    "available Account balance. Please see the additional details \n",
    "below for more information regarding pending transactions. \n",
    "\n",
    "c) We then deduct items from your available Account balance \n",
    "by category, in the following order: \n",
    "\n",
    "i. Outgoing wire transfers, return deposit items, and debit \n",
    "adjustments to your available Account balance; \n",
    "\n",
    "ii. Overdraft fees, other returned item fees, and deposit \n",
    "return fees; \n",
    "\n",
    "iii. All other Account fees (except as described in (iv) below), \n",
    "and all other items including checks, ATM transactions, \n",
    "and debit card transactions; and \n",
    "\n",
    "iv. Fees assessed at the end of the statement cycle including, \n",
    "for example but not limited to, monthly maintenance fees. \n",
    "\n",
    "Within categories i, ii, and iii, we post items in order from \n",
    "highest to lowest dollar amount. \n",
    "\n",
    "Additional details regarding pending transactions for \n",
    "all Accounts: \n",
    "\n",
    "When you use a debit card, ATM card, or other electronic means \n",
    "to make withdrawals, we may receive notice of the transaction \n",
    "before it is actually presented to us for payment. That notice \n",
    "may be in the form of a merchant authorization request or \n",
    "other electronic inquiry. Upon receipt of such notice, we treat \n",
    "\n",
    "the transaction as “pending” at the time we receive notice, \n",
    "and subject to certain exceptions, we deduct the amount of the \n",
    "pending transactions from your available Account balance to \n",
    "determine the amount available to pay other items presented \n",
    "against your Account. The amount of a pending transaction \n",
    "may not be equal to the amount of the actual transaction that is \n",
    "subsequently presented for payment and posted to your Account. \n",
    "If a pending transaction is not presented for payment within three \n",
    "(3) Business Days after we receive notice of the transaction, we \n",
    "will release the amount of the pending transaction. We do not \n",
    "deduct the amount of pending debit card transactions from your \n",
    "available Account balance for certain categories of merchants \n",
    "that frequently request authorization for amounts in excess of \n",
    "the likely transaction amount, including hotels and resorts, airlines \n",
    "and cruise lines, car rental companies, and automated gas pumps \n",
    "(pay at the pump). \n",
    " '''\n"
   ]
  },
  {
   "cell_type": "code",
   "execution_count": 17,
   "id": "0f4fdeb1",
   "metadata": {},
   "outputs": [
    {
     "name": "stdout",
     "output_type": "stream",
     "text": [
      "article size = 695, calculated word limit = 69\n",
      "[{'summary_text': ' Deposits are made available to you in accordance with our Funds Availability Policy . Items are processed as follows: deposits and withdrawals are added to and deducted from your available Account balance . The total amount of any “pending” debit card, ATM and other electronic transactions that have been authorized but not yet presented to us for'}]\n"
     ]
    }
   ],
   "source": [
    "print(summarize_given_perc(ARTICLE, 10))"
   ]
  },
  {
   "cell_type": "code",
   "execution_count": null,
   "id": "e8070316",
   "metadata": {},
   "outputs": [],
   "source": []
  },
  {
   "cell_type": "code",
   "execution_count": null,
   "id": "607e4dd3",
   "metadata": {},
   "outputs": [],
   "source": []
  }
 ],
 "metadata": {
  "kernelspec": {
   "display_name": "Python 3",
   "language": "python",
   "name": "python3"
  },
  "language_info": {
   "codemirror_mode": {
    "name": "ipython",
    "version": 3
   },
   "file_extension": ".py",
   "mimetype": "text/x-python",
   "name": "python",
   "nbconvert_exporter": "python",
   "pygments_lexer": "ipython3",
   "version": "3.7.6"
  }
 },
 "nbformat": 4,
 "nbformat_minor": 5
}
