{
 "cells": [
  {
   "cell_type": "code",
   "execution_count": 18,
   "id": "9a8087ba",
   "metadata": {},
   "outputs": [],
   "source": [
    "## Based on https://machinelearningmastery.com/develop-word-embeddings-python-gensim/"
   ]
  },
  {
   "cell_type": "code",
   "execution_count": 19,
   "id": "980b7d01",
   "metadata": {},
   "outputs": [],
   "source": [
    "## Install, as needed\n",
    "#!pip install gensim"
   ]
  },
  {
   "cell_type": "code",
   "execution_count": 20,
   "id": "e9abce19",
   "metadata": {},
   "outputs": [],
   "source": [
    "# Based on https://machinelearningmastery.com/develop-word-embeddings-python-gensim/\n",
    "# Import\n",
    "from gensim.models import Word2Vec\n"
   ]
  },
  {
   "cell_type": "code",
   "execution_count": 21,
   "id": "8bc44361",
   "metadata": {},
   "outputs": [],
   "source": [
    "# Corpus, as in L5 \n",
    "# (https://github.com/biplav-s/course-nl-f22/blob/main/sample-code/l5-wordrepresent/Word%20Representations%20-%20Vectors.ipynb)\n",
    "\n",
    "corpus = [\n",
    "'This is an apple',\n",
    "'These are apples',\n",
    "'This is an apples',\n",
    "'There are apply'\n",
    "]\n",
    "\n",
    "\n",
    "\n",
    "corpus2 = [\n",
    "['An', 'alpha', 'document', '.'],\n",
    "['A', 'beta', 'document', '.'],\n",
    "['Guten', 'Morgen', '!'],\n",
    "['Gamma', 'manuscript', 'is', 'old', '.'],\n",
    "['Whither', 'my', 'document', '?']\n",
    "]\n"
   ]
  },
  {
   "cell_type": "code",
   "execution_count": 22,
   "id": "ca9d8afa",
   "metadata": {},
   "outputs": [
    {
     "name": "stdout",
     "output_type": "stream",
     "text": [
      "INFO: Model - \n",
      "Word2Vec(vocab=16, size=100, alpha=0.025)\n"
     ]
    }
   ],
   "source": [
    "# train model\n",
    "model = Word2Vec(corpus2, min_count=1)\n",
    "# summarize the loaded model\n",
    "print(\"INFO: Model - \\n\" + str(model))"
   ]
  },
  {
   "cell_type": "code",
   "execution_count": 23,
   "id": "4aeb9791",
   "metadata": {},
   "outputs": [
    {
     "name": "stdout",
     "output_type": "stream",
     "text": [
      "INFO: Words found - \n",
      "['An', 'alpha', 'document', '.', 'A', 'beta', 'Guten', 'Morgen', '!', 'Gamma', 'manuscript', 'is', 'old', 'Whither', 'my', '?']\n"
     ]
    }
   ],
   "source": [
    "# summarize vocabulary\n",
    "words = list(model.wv.vocab)\n",
    "print(\"INFO: Words found - \\n\" + str(words))\n"
   ]
  },
  {
   "cell_type": "code",
   "execution_count": 24,
   "id": "95ad8de4",
   "metadata": {},
   "outputs": [
    {
     "name": "stdout",
     "output_type": "stream",
     "text": [
      "INFO: Model of 'document' - \n",
      "[ 3.40804528e-03 -4.58606379e-03 -4.60935663e-03  2.93835253e-03\n",
      " -2.51210993e-03  4.15522140e-03  1.46137294e-03 -1.78643572e-03\n",
      "  3.19371512e-03 -4.59134299e-03  2.38117971e-03  2.28498201e-03\n",
      " -4.85369936e-03  4.52817464e-03  4.86267172e-03  1.71703810e-03\n",
      "  3.41111957e-03 -1.91864523e-03 -2.89563229e-03  4.55185259e-03\n",
      "  4.18921094e-03 -5.98799321e-04 -3.29799857e-03  3.99830937e-03\n",
      "  1.81168652e-04 -1.88872288e-03 -4.91069769e-03  2.92893453e-03\n",
      " -1.16199575e-04  4.13275557e-03 -3.70287895e-03 -2.33311672e-03\n",
      " -1.99188665e-03 -2.57552951e-03 -6.47799025e-05 -3.37403174e-03\n",
      "  1.69755076e-03  4.60626092e-03  1.73882919e-03  4.82494477e-03\n",
      " -1.79352588e-03  3.25873797e-03  1.51551503e-03 -3.81243089e-03\n",
      "  1.40488532e-03  4.12795926e-03  1.42764620e-05 -6.27727655e-04\n",
      "  3.23698367e-03 -3.45880073e-03  4.29679826e-03  2.75365426e-03\n",
      " -1.48593297e-03  2.44959793e-03 -1.64211891e-03 -2.55182199e-03\n",
      " -1.66662829e-03 -2.97290389e-03 -3.51421931e-03 -3.90866818e-03\n",
      "  9.33357805e-04 -3.67153692e-03 -7.82227653e-06 -2.46075937e-03\n",
      " -3.11888079e-03  3.85148474e-03 -4.95863671e-04  4.68511833e-03\n",
      "  1.98221765e-03 -3.15415021e-03  2.19436898e-03  6.51659502e-04\n",
      " -2.91412673e-03  3.19580385e-03  3.73429735e-03 -2.46618106e-03\n",
      "  2.19308352e-03  1.81910023e-03 -1.43770117e-03  1.02604157e-03\n",
      "  7.38638104e-04  1.70641241e-03  1.81438983e-03 -3.45932599e-03\n",
      " -4.34070965e-03 -3.63512570e-03 -5.37569518e-04 -3.67726830e-06\n",
      "  4.49592480e-03  2.77224486e-03  9.39353718e-04 -3.12616612e-04\n",
      " -3.93523742e-03 -1.95010012e-04 -6.23176806e-04  4.13650880e-03\n",
      "  1.38961332e-04 -1.36206960e-04 -2.58388557e-03 -2.86037428e-03]\n"
     ]
    },
    {
     "name": "stderr",
     "output_type": "stream",
     "text": [
      "/Users/biplavs/opt/anaconda3/lib/python3.7/site-packages/ipykernel_launcher.py:3: DeprecationWarning: Call to deprecated `__getitem__` (Method will be removed in 4.0.0, use self.wv.__getitem__() instead).\n",
      "  This is separate from the ipykernel package so we can avoid doing imports until\n"
     ]
    }
   ],
   "source": [
    "# access vector for one word - specified by myword\n",
    "myword = 'document'\n",
    "print(\"INFO: Model of '\" + myword + \"' - \\n\" + str(model[myword]))"
   ]
  },
  {
   "cell_type": "code",
   "execution_count": 25,
   "id": "2f64a0e8",
   "metadata": {},
   "outputs": [
    {
     "name": "stderr",
     "output_type": "stream",
     "text": [
      "/Users/biplavs/opt/anaconda3/lib/python3.7/site-packages/ipykernel_launcher.py:1: DeprecationWarning: Call to deprecated `__getitem__` (Method will be removed in 4.0.0, use self.wv.__getitem__() instead).\n",
      "  \"\"\"Entry point for launching an IPython kernel.\n"
     ]
    }
   ],
   "source": [
    "X = model[model.wv.vocab]"
   ]
  },
  {
   "cell_type": "code",
   "execution_count": 26,
   "id": "dae3b12b",
   "metadata": {},
   "outputs": [],
   "source": [
    "import numpy as np\n",
    "from sklearn.decomposition import PCA"
   ]
  },
  {
   "cell_type": "code",
   "execution_count": 27,
   "id": "288e6a52",
   "metadata": {},
   "outputs": [],
   "source": [
    "pca = PCA(n_components=2)\n",
    "result = pca.fit_transform(X)"
   ]
  },
  {
   "cell_type": "code",
   "execution_count": 28,
   "id": "523fb9a2",
   "metadata": {},
   "outputs": [],
   "source": [
    "from matplotlib import pyplot"
   ]
  },
  {
   "cell_type": "code",
   "execution_count": 29,
   "id": "cf30cf05",
   "metadata": {},
   "outputs": [
    {
     "data": {
      "image/png": "[encoded data removed]",
      "text/plain": [
       "<Figure size 432x288 with 1 Axes>"
      ]
     },
     "metadata": {
      "needs_background": "light"
     },
     "output_type": "display_data"
    }
   ],
   "source": [
    "# Plot the points\n",
    "pyplot.scatter(result[:, 0], result[:, 1])\n",
    "words = list(model.wv.vocab)\n",
    "for i, word in enumerate(words):\n",
    "    pyplot.annotate(word, xy=(result[i, 0], result[i, 1]))\n",
    "pyplot.show()"
   ]
  },
  {
   "cell_type": "markdown",
   "id": "7fa48679",
   "metadata": {},
   "source": [
    "## Using corpus2"
   ]
  },
  {
   "cell_type": "code",
   "execution_count": 30,
   "id": "60507406",
   "metadata": {},
   "outputs": [
    {
     "name": "stdout",
     "output_type": "stream",
     "text": [
      "INFO: Model - \n",
      "Word2Vec(vocab=12, size=100, alpha=0.025)\n"
     ]
    }
   ],
   "source": [
    "# train model\n",
    "model = Word2Vec(corpus, min_count=1)\n",
    "# summarize the loaded model\n",
    "print(\"INFO: Model - \\n\" + str(model))"
   ]
  },
  {
   "cell_type": "code",
   "execution_count": 31,
   "id": "a756c4fb",
   "metadata": {},
   "outputs": [
    {
     "name": "stdout",
     "output_type": "stream",
     "text": [
      "INFO: Words found - \n",
      "['T', 'h', 'i', 's', ' ', 'a', 'n', 'p', 'l', 'e', 'r', 'y']\n"
     ]
    }
   ],
   "source": [
    "# summarize vocabulary\n",
    "words = list(model.wv.vocab)\n",
    "print(\"INFO: Words found - \\n\" + str(words))"
   ]
  },
  {
   "cell_type": "code",
   "execution_count": 32,
   "id": "f2e47c61",
   "metadata": {},
   "outputs": [
    {
     "name": "stdout",
     "output_type": "stream",
     "text": [
      "INFO: Model of 'a' - \n",
      "[ 1.7469017e-04 -4.4597699e-03 -1.7497066e-03  2.6301793e-03\n",
      "  3.8696968e-03 -6.5303524e-04  2.7190039e-03 -2.5862393e-03\n",
      " -4.0812073e-03  1.4310493e-03 -4.6049473e-03 -4.4495291e-03\n",
      "  8.3268579e-04  1.9261410e-04  1.5651724e-04  9.5147826e-04\n",
      "  3.6211945e-03 -1.2267861e-03 -3.2268688e-03  9.5149747e-04\n",
      " -3.8836051e-03 -3.5145283e-03  3.5791702e-03  4.0270369e-03\n",
      " -2.9035234e-03  3.2952637e-03 -2.5829370e-03  2.5836418e-03\n",
      "  1.4706403e-03  2.7423394e-03  2.3284168e-03  3.6800904e-03\n",
      " -1.3660135e-03 -1.7857519e-03  2.8003654e-03  4.9814237e-03\n",
      " -3.2902803e-04 -1.4103120e-03 -4.9888124e-03 -2.6781433e-03\n",
      " -1.4241313e-04 -4.4930824e-03 -1.5465309e-03  3.2599759e-03\n",
      "  3.0188418e-03  4.8019781e-04 -4.8445882e-03  5.2512635e-04\n",
      "  9.5010642e-04  3.6617394e-03  2.2480274e-03  2.5707129e-03\n",
      "  2.8928209e-03  3.6734683e-03  3.0217336e-03  3.2542876e-03\n",
      " -4.5921248e-03  2.6328408e-03  4.5657236e-04  3.4778840e-03\n",
      " -3.4241362e-03  3.8306217e-03 -3.6389835e-03  2.5562658e-03\n",
      "  4.3494757e-03  3.9178603e-03  7.5876323e-04 -4.5536505e-04\n",
      " -5.3821306e-04 -2.7361573e-04 -9.5031224e-04 -1.9094308e-03\n",
      "  1.3340642e-03 -1.5960687e-03  3.4948967e-03  4.1713826e-03\n",
      "  3.5218936e-03 -3.0803727e-03  1.0488587e-03 -9.4733189e-04\n",
      "  2.5725299e-03  6.0514929e-05  4.6197847e-03 -6.6614611e-04\n",
      "  5.2458333e-04  1.5964097e-03  1.7177976e-03  3.3419677e-03\n",
      " -1.1609087e-03 -3.0667391e-03  3.5206894e-03  2.3593938e-03\n",
      "  2.5277110e-03  2.0959061e-03 -1.1696101e-03 -3.0745168e-03\n",
      "  3.0366506e-03  5.3906639e-04 -3.6736778e-03 -8.1182114e-04]\n"
     ]
    },
    {
     "name": "stderr",
     "output_type": "stream",
     "text": [
      "/Users/biplavs/opt/anaconda3/lib/python3.7/site-packages/ipykernel_launcher.py:3: DeprecationWarning: Call to deprecated `__getitem__` (Method will be removed in 4.0.0, use self.wv.__getitem__() instead).\n",
      "  This is separate from the ipykernel package so we can avoid doing imports until\n"
     ]
    }
   ],
   "source": [
    "# access vector for one word - specified by myword\n",
    "myword = 'a'\n",
    "print(\"INFO: Model of '\" + myword + \"' - \\n\" + str(model[myword]))"
   ]
  },
  {
   "cell_type": "code",
   "execution_count": 33,
   "id": "4ed40267",
   "metadata": {},
   "outputs": [
    {
     "name": "stderr",
     "output_type": "stream",
     "text": [
      "/Users/biplavs/opt/anaconda3/lib/python3.7/site-packages/ipykernel_launcher.py:1: DeprecationWarning: Call to deprecated `__getitem__` (Method will be removed in 4.0.0, use self.wv.__getitem__() instead).\n",
      "  \"\"\"Entry point for launching an IPython kernel.\n"
     ]
    }
   ],
   "source": [
    "X = model[model.wv.vocab]"
   ]
  },
  {
   "cell_type": "code",
   "execution_count": 34,
   "id": "f654863d",
   "metadata": {},
   "outputs": [],
   "source": [
    "pca = PCA(n_components=2)\n",
    "result = pca.fit_transform(X)"
   ]
  },
  {
   "cell_type": "code",
   "execution_count": 35,
   "id": "458ca073",
   "metadata": {},
   "outputs": [
    {
     "data": {
      "image/png": "[encoded data removed]",
      "text/plain": [
       "<Figure size 432x288 with 1 Axes>"
      ]
     },
     "metadata": {
      "needs_background": "light"
     },
     "output_type": "display_data"
    }
   ],
   "source": [
    "# Plot\n",
    "pyplot.scatter(result[:, 0], result[:, 1])\n",
    "words = list(model.wv.vocab)\n",
    "for i, word in enumerate(words):\n",
    "    pyplot.annotate(word, xy=(result[i, 0], result[i, 1]))\n",
    "pyplot.show()"
   ]
  },
  {
   "cell_type": "code",
   "execution_count": null,
   "id": "e88e11a9",
   "metadata": {},
   "outputs": [],
   "source": []
  }
 ],
 "metadata": {
  "kernelspec": {
   "display_name": "Python 3",
   "language": "python",
   "name": "python3"
  },
  "language_info": {
   "codemirror_mode": {
    "name": "ipython",
    "version": 3
   },
   "file_extension": ".py",
   "mimetype": "text/x-python",
   "name": "python",
   "nbconvert_exporter": "python",
   "pygments_lexer": "ipython3",
   "version": "3.7.6"
  }
 },
 "nbformat": 4,
 "nbformat_minor": 5
}
