{
 "cells": [
  {
   "cell_type": "markdown",
   "metadata": {},
   "source": [
    "## We look at different vector representations for words"
   ]
  },
  {
   "cell_type": "code",
   "execution_count": 1,
   "metadata": {},
   "outputs": [],
   "source": [
    "# Based on sci-kit documentation\n",
    "# Imports\n",
    "from sklearn.feature_extraction.text import CountVectorizer\n"
   ]
  },
  {
   "cell_type": "code",
   "execution_count": 2,
   "metadata": {},
   "outputs": [],
   "source": [
    "corpus = [\n",
    "'This is an apple',\n",
    "'These are apples',\n",
    "'This is an apples',\n",
    "'There are apply'\n",
    "]"
   ]
  },
  {
   "cell_type": "code",
   "execution_count": 3,
   "metadata": {},
   "outputs": [],
   "source": [
    "corpus2 = [\n",
    "'An alpha document.',\n",
    "'A beta document.',\n",
    "'Guten Morgen!',\n",
    "'Gamma manuscript is old.',\n",
    "'Whither my document?',\n",
    "'one two alpha beta'\n",
    "]"
   ]
  },
  {
   "cell_type": "code",
   "execution_count": 4,
   "metadata": {},
   "outputs": [
    {
     "name": "stdout",
     "output_type": "stream",
     "text": [
      "['an', 'apple', 'apples', 'apply', 'are', 'is', 'there', 'these', 'this']\n",
      "[[1 1 0 0 0 1 0 0 1]\n",
      " [0 0 1 0 1 0 0 1 0]\n",
      " [1 0 1 0 0 1 0 0 1]\n",
      " [0 0 0 1 1 0 1 0 0]]\n"
     ]
    },
    {
     "name": "stderr",
     "output_type": "stream",
     "text": [
      "/Users/biplavs/opt/anaconda3/lib/python3.7/site-packages/sklearn/utils/deprecation.py:87: FutureWarning: Function get_feature_names is deprecated; get_feature_names is deprecated in 1.0 and will be removed in 1.2. Please use get_feature_names_out instead.\n",
      "  warnings.warn(msg, category=FutureWarning)\n"
     ]
    }
   ],
   "source": [
    "# Single word representation\n",
    "vectorizer = CountVectorizer()\n",
    "X = vectorizer.fit_transform(corpus)\n",
    "print(vectorizer.get_feature_names())\n",
    "print(X.toarray())"
   ]
  },
  {
   "cell_type": "code",
   "execution_count": 5,
   "metadata": {},
   "outputs": [
    {
     "data": {
      "text/plain": [
       "array([1, 1, 0, 0, 0, 1, 0, 0, 1])"
      ]
     },
     "execution_count": 5,
     "metadata": {},
     "output_type": "execute_result"
    }
   ],
   "source": [
    "res = X.toarray()\n",
    "res[0]"
   ]
  },
  {
   "cell_type": "code",
   "execution_count": 6,
   "metadata": {},
   "outputs": [],
   "source": [
    "from sklearn.metrics.pairwise import cosine_similarity"
   ]
  },
  {
   "cell_type": "code",
   "execution_count": 7,
   "metadata": {},
   "outputs": [
    {
     "name": "stdout",
     "output_type": "stream",
     "text": [
      "Distance with doc -  0  is -  [[1.]]\n",
      "Distance with doc -  1  is -  [[0.]]\n",
      "Distance with doc -  2  is -  [[0.75]]\n",
      "Distance with doc -  3  is -  [[0.]]\n"
     ]
    }
   ],
   "source": [
    "# Measuring distance between first and other docs\n",
    "for i in range(len(res)):\n",
    "    print (\"Distance with doc - \", i , \" is - \", cosine_similarity(res[0].reshape(1, -1), res[i].reshape(1, -1)))"
   ]
  },
  {
   "cell_type": "code",
   "execution_count": 8,
   "metadata": {},
   "outputs": [
    {
     "name": "stdout",
     "output_type": "stream",
     "text": [
      "['an apple', 'an apples', 'are apples', 'are apply', 'is an', 'is an apple', 'is an apples', 'there are', 'there are apply', 'these are', 'these are apples', 'this is', 'this is an']\n",
      "[[1 0 0 0 1 1 0 0 0 0 0 1 1]\n",
      " [0 0 1 0 0 0 0 0 0 1 1 0 0]\n",
      " [0 1 0 0 1 0 1 0 0 0 0 1 1]\n",
      " [0 0 0 1 0 0 0 1 1 0 0 0 0]]\n"
     ]
    },
    {
     "name": "stderr",
     "output_type": "stream",
     "text": [
      "/Users/biplavs/opt/anaconda3/lib/python3.7/site-packages/sklearn/utils/deprecation.py:87: FutureWarning: Function get_feature_names is deprecated; get_feature_names is deprecated in 1.0 and will be removed in 1.2. Please use get_feature_names_out instead.\n",
      "  warnings.warn(msg, category=FutureWarning)\n"
     ]
    }
   ],
   "source": [
    "# N-gram representation (2- and 3-; word based)\n",
    "vectorizer2 = CountVectorizer(analyzer='word', ngram_range=(2, 3))\n",
    "X2 = vectorizer2.fit_transform(corpus)\n",
    "print(vectorizer2.get_feature_names())\n",
    "print(X2.toarray())"
   ]
  },
  {
   "cell_type": "code",
   "execution_count": 9,
   "metadata": {},
   "outputs": [
    {
     "data": {
      "text/plain": [
       "array([1, 0, 0, 0, 1, 1, 0, 0, 0, 0, 0, 1, 1])"
      ]
     },
     "execution_count": 9,
     "metadata": {},
     "output_type": "execute_result"
    }
   ],
   "source": [
    "res = X2.toarray()\n",
    "res[0]"
   ]
  },
  {
   "cell_type": "code",
   "execution_count": 10,
   "metadata": {},
   "outputs": [
    {
     "name": "stdout",
     "output_type": "stream",
     "text": [
      "Distance with doc -  0  is -  [[1.]]\n",
      "Distance with doc -  1  is -  [[0.]]\n",
      "Distance with doc -  2  is -  [[0.6]]\n",
      "Distance with doc -  3  is -  [[0.]]\n"
     ]
    }
   ],
   "source": [
    "# Measuring distance between first and other docs\n",
    "for i in range(len(res)):\n",
    "    print (\"Distance with doc - \", i , \" is - \", cosine_similarity(res[0].reshape(1, -1), res[i].reshape(1, -1)))"
   ]
  },
  {
   "cell_type": "code",
   "execution_count": 11,
   "metadata": {},
   "outputs": [
    {
     "name": "stdout",
     "output_type": "stream",
     "text": [
      "[' a', ' i', 'an', 'ap', 'ar', 'e ', 'er', 'es', 'he', 'hi', 'is', 'le', 'ly', 'n ', 'pl', 'pp', 're', 's ', 'se', 'th']\n",
      "[[2 1 1 1 0 0 0 0 0 1 2 1 0 1 1 1 0 2 0 1]\n",
      " [2 0 0 1 1 2 0 2 1 0 0 1 0 0 1 1 1 0 1 1]\n",
      " [2 1 1 1 0 0 0 1 0 1 2 1 0 1 1 1 0 2 0 1]\n",
      " [2 0 0 1 1 2 1 0 1 0 0 0 1 0 1 1 2 0 0 1]]\n"
     ]
    },
    {
     "name": "stderr",
     "output_type": "stream",
     "text": [
      "/Users/biplavs/opt/anaconda3/lib/python3.7/site-packages/sklearn/utils/deprecation.py:87: FutureWarning: Function get_feature_names is deprecated; get_feature_names is deprecated in 1.0 and will be removed in 1.2. Please use get_feature_names_out instead.\n",
      "  warnings.warn(msg, category=FutureWarning)\n"
     ]
    }
   ],
   "source": [
    "# N-gram representation (2- and 3-; char based)\n",
    "vectorizer3 = CountVectorizer(analyzer='char', ngram_range=(2,2))\n",
    "X3 = vectorizer3.fit_transform(corpus)\n",
    "print(vectorizer3.get_feature_names())\n",
    "print(X3.toarray())"
   ]
  },
  {
   "cell_type": "code",
   "execution_count": 12,
   "metadata": {},
   "outputs": [
    {
     "data": {
      "text/plain": [
       "array([2, 1, 1, 1, 0, 0, 0, 0, 0, 1, 2, 1, 0, 1, 1, 1, 0, 2, 0, 1])"
      ]
     },
     "execution_count": 12,
     "metadata": {},
     "output_type": "execute_result"
    }
   ],
   "source": [
    "res = X3.toarray()\n",
    "res[0]"
   ]
  },
  {
   "cell_type": "code",
   "execution_count": 13,
   "metadata": {},
   "outputs": [
    {
     "name": "stdout",
     "output_type": "stream",
     "text": [
      "Distance with doc -  0  is -  [[1.]]\n",
      "Distance with doc -  1  is -  [[0.42857143]]\n",
      "Distance with doc -  2  is -  [[0.97700842]]\n",
      "Distance with doc -  3  is -  [[0.39036003]]\n"
     ]
    }
   ],
   "source": [
    "# Measuring distance between first and other docs\n",
    "for i in range(len(res)):\n",
    "    print (\"Distance with doc - \", i , \" is - \", cosine_similarity(res[0].reshape(1, -1), res[i].reshape(1, -1)))"
   ]
  },
  {
   "cell_type": "markdown",
   "metadata": {},
   "source": [
    "## Contextual Representation Using TF-IDF"
   ]
  },
  {
   "cell_type": "code",
   "execution_count": 14,
   "metadata": {},
   "outputs": [],
   "source": [
    "from sklearn.feature_extraction.text import TfidfVectorizer"
   ]
  },
  {
   "cell_type": "code",
   "execution_count": 15,
   "metadata": {},
   "outputs": [
    {
     "name": "stdout",
     "output_type": "stream",
     "text": [
      "['an', 'apple', 'apples', 'apply', 'are', 'is', 'there', 'these', 'this']\n",
      "[[0.46580855 0.59081908 0.         0.         0.         0.46580855\n",
      "  0.         0.         0.46580855]\n",
      " [0.         0.         0.52640543 0.         0.52640543 0.\n",
      "  0.         0.66767854 0.        ]\n",
      " [0.5        0.         0.5        0.         0.         0.5\n",
      "  0.         0.         0.5       ]\n",
      " [0.         0.         0.         0.61761437 0.48693426 0.\n",
      "  0.61761437 0.         0.        ]]\n"
     ]
    },
    {
     "name": "stderr",
     "output_type": "stream",
     "text": [
      "/Users/biplavs/opt/anaconda3/lib/python3.7/site-packages/sklearn/utils/deprecation.py:87: FutureWarning: Function get_feature_names is deprecated; get_feature_names is deprecated in 1.0 and will be removed in 1.2. Please use get_feature_names_out instead.\n",
      "  warnings.warn(msg, category=FutureWarning)\n"
     ]
    }
   ],
   "source": [
    "# TFIDR Vectorizer gives value based on Inverse Document Frequency, i.e., relative\n",
    "# occurence of words in the documents. Hence, context is by word frequency.\n",
    "vectorizer = TfidfVectorizer()\n",
    "X = vectorizer.fit_transform(corpus)\n",
    "print(vectorizer.get_feature_names())\n",
    "print(X.toarray())"
   ]
  },
  {
   "cell_type": "code",
   "execution_count": 16,
   "metadata": {},
   "outputs": [],
   "source": [
    "# We can use relative word occurence (similarity) to measure similarity between documents"
   ]
  },
  {
   "cell_type": "code",
   "execution_count": 17,
   "metadata": {},
   "outputs": [],
   "source": [
    "from sklearn.metrics.pairwise import cosine_similarity "
   ]
  },
  {
   "cell_type": "code",
   "execution_count": 18,
   "metadata": {},
   "outputs": [
    {
     "name": "stdout",
     "output_type": "stream",
     "text": [
      "similarity of doc-1 (This is an apple) with 1(These are apples) is = [[0.]]\n",
      "similarity of doc-1 (This is an apple) with 2(This is an apples) is = [[0.69871282]]\n",
      "similarity of doc-1 (This is an apple) with 3(There are apply) is = [[0.]]\n"
     ]
    }
   ],
   "source": [
    "for i in range(1, len(corpus)):\n",
    "    print (\"similarity of doc-1 (\" + corpus[0] + \") with \" + str(i) + \"(\" + corpus[i] + \") is = \"  + str(cosine_similarity (X[0], X[i])))"
   ]
  },
  {
   "cell_type": "code",
   "execution_count": null,
   "metadata": {},
   "outputs": [],
   "source": []
  },
  {
   "cell_type": "code",
   "execution_count": null,
   "metadata": {},
   "outputs": [],
   "source": []
  },
  {
   "cell_type": "code",
   "execution_count": null,
   "metadata": {},
   "outputs": [],
   "source": []
  }
 ],
 "metadata": {
  "kernelspec": {
   "display_name": "Python 3",
   "language": "python",
   "name": "python3"
  },
  "language_info": {
   "codemirror_mode": {
    "name": "ipython",
    "version": 3
   },
   "file_extension": ".py",
   "mimetype": "text/x-python",
   "name": "python",
   "nbconvert_exporter": "python",
   "pygments_lexer": "ipython3",
   "version": "3.7.6"
  }
 },
 "nbformat": 4,
 "nbformat_minor": 4
}
