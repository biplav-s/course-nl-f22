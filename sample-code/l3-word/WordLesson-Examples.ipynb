{
 "cells": [
  {
   "cell_type": "markdown",
   "metadata": {},
   "source": [
    "# Examples with Regular Expressions"
   ]
  },
  {
   "cell_type": "code",
   "execution_count": 1,
   "metadata": {},
   "outputs": [],
   "source": [
    "# Import package\n",
    "import re  "
   ]
  },
  {
   "cell_type": "code",
   "execution_count": 2,
   "metadata": {},
   "outputs": [],
   "source": [
    "# Acknowledgements:\n",
    "# Uses content from - https://docs.python.org/3/library/re.html,\n",
    "# https://www.w3schools.com/python/python_regex.asp,\n",
    "# https://realpython.com/regex-python-part-2/"
   ]
  },
  {
   "cell_type": "code",
   "execution_count": 3,
   "metadata": {},
   "outputs": [
    {
     "data": {
      "text/plain": [
       "'Th'"
      ]
     },
     "execution_count": 3,
     "metadata": {},
     "output_type": "execute_result"
    }
   ],
   "source": [
    "# String (data) to experiment with\n",
    "data = \"The CSCE 771 course is taught at University this Fall!\"\n",
    "pattern = \"[tT]h\"\n",
    "m = re.search(pattern, data)\n",
    "m.group()"
   ]
  },
  {
   "cell_type": "code",
   "execution_count": 4,
   "metadata": {},
   "outputs": [
    {
     "name": "stdout",
     "output_type": "stream",
     "text": [
      "['Th', 'th']\n"
     ]
    }
   ],
   "source": [
    "m = re.findall(pattern, data)\n",
    "print(m)"
   ]
  },
  {
   "cell_type": "code",
   "execution_count": 5,
   "metadata": {},
   "outputs": [
    {
     "name": "stdout",
     "output_type": "stream",
     "text": [
      "['The ', 'this']\n"
     ]
    }
   ],
   "source": [
    "# Find this and the \n",
    "pattern = \"[tT]h[ei]+.\"\n",
    "m = re.findall(pattern, data)\n",
    "print(m)"
   ]
  },
  {
   "cell_type": "code",
   "execution_count": 6,
   "metadata": {},
   "outputs": [
    {
     "name": "stdout",
     "output_type": "stream",
     "text": [
      "['Th', 'ta', 'ty', 'th']\n"
     ]
    }
   ],
   "source": [
    "pattern = \"[tT]+\\w\"\n",
    "m = re.findall(pattern, data)\n",
    "print(m)"
   ]
  },
  {
   "cell_type": "code",
   "execution_count": 7,
   "metadata": {},
   "outputs": [
    {
     "name": "stdout",
     "output_type": "stream",
     "text": [
      "<re.Match object; span=(5, 11), match='taught'>\n"
     ]
    }
   ],
   "source": [
    "# Selective extraction\n",
    "# Search for a series of alphanumeric characters after it matches '-'\n",
    "# See syntax: https://docs.python.org/3/library/re.html \n",
    "m = re.search(r'(?<=-)\\w+', 'self-taught person')\n",
    "print(m)"
   ]
  },
  {
   "cell_type": "code",
   "execution_count": 8,
   "metadata": {},
   "outputs": [],
   "source": [
    "# Example: An extraction of known information type"
   ]
  },
  {
   "cell_type": "code",
   "execution_count": 9,
   "metadata": {},
   "outputs": [
    {
     "data": {
      "text/plain": [
       "'Isaac Newton'"
      ]
     },
     "execution_count": 9,
     "metadata": {},
     "output_type": "execute_result"
    }
   ],
   "source": [
    "m = re.match(r\"(\\w+) (\\w+)\", \"Isaac Newton, physicist\")\n",
    "m.group(0)       # The entire match"
   ]
  },
  {
   "cell_type": "code",
   "execution_count": 10,
   "metadata": {},
   "outputs": [
    {
     "data": {
      "text/plain": [
       "'Isaac'"
      ]
     },
     "execution_count": 10,
     "metadata": {},
     "output_type": "execute_result"
    }
   ],
   "source": [
    "m.group(1)       # The first parenthesized subgroup."
   ]
  },
  {
   "cell_type": "code",
   "execution_count": 11,
   "metadata": {},
   "outputs": [
    {
     "data": {
      "text/plain": [
       "('Isaac', 'Newton')"
      ]
     },
     "execution_count": 11,
     "metadata": {},
     "output_type": "execute_result"
    }
   ],
   "source": [
    "m.group(1, 2)    # Multiple arguments will return a tuple."
   ]
  },
  {
   "cell_type": "code",
   "execution_count": 12,
   "metadata": {},
   "outputs": [
    {
     "data": {
      "text/plain": [
       "'tony@tiger.net'"
      ]
     },
     "execution_count": 12,
     "metadata": {},
     "output_type": "execute_result"
    }
   ],
   "source": [
    "# Cleaning a string with regex\n",
    "email = \"tony@tiremove_thisger.net\"\n",
    "m = re.search(\"remove_this\", email)\n",
    "email[:m.start()] + email[m.end():]"
   ]
  },
  {
   "cell_type": "markdown",
   "metadata": {},
   "source": [
    "# Using Wordnet"
   ]
  },
  {
   "cell_type": "code",
   "execution_count": 13,
   "metadata": {},
   "outputs": [
    {
     "name": "stderr",
     "output_type": "stream",
     "text": [
      "[nltk_data] Downloading package omw-1.4 to /Users/biplavs/nltk_data...\n",
      "[nltk_data]   Package omw-1.4 is already up-to-date!\n"
     ]
    },
    {
     "data": {
      "text/plain": [
       "True"
      ]
     },
     "execution_count": 13,
     "metadata": {},
     "output_type": "execute_result"
    }
   ],
   "source": [
    "import nltk\n",
    "nltk.download('omw-1.4')"
   ]
  },
  {
   "cell_type": "code",
   "execution_count": 14,
   "metadata": {},
   "outputs": [],
   "source": [
    "# Based on example at https://pythonprogramming.net/wordnet-nltk-tutorial/\n",
    "from nltk.corpus import wordnet"
   ]
  },
  {
   "cell_type": "code",
   "execution_count": 15,
   "metadata": {},
   "outputs": [],
   "source": [
    "# Find synnets of given data word\n",
    "data = \"language\""
   ]
  },
  {
   "cell_type": "code",
   "execution_count": 16,
   "metadata": {},
   "outputs": [
    {
     "name": "stdout",
     "output_type": "stream",
     "text": [
      "[Synset('language.n.01'), Synset('speech.n.02'), Synset('lyric.n.01'), Synset('linguistic_process.n.02'), Synset('language.n.05'), Synset('terminology.n.01')]\n"
     ]
    }
   ],
   "source": [
    "# Find and then pring\n",
    "syns = wordnet.synsets(data)\n",
    "print (syns)"
   ]
  },
  {
   "cell_type": "code",
   "execution_count": 17,
   "metadata": {},
   "outputs": [
    {
     "name": "stdout",
     "output_type": "stream",
     "text": [
      "language.n.01 a systematic means of communicating by the use of sounds or conventional symbols ['he taught foreign languages', 'the language introduced is standard throughout the text', 'the speed with which a program can be executed depends on the language in which it is written']\n"
     ]
    }
   ],
   "source": [
    "# See name, definition, examples\n",
    "print(syns[0].name(), syns[0].definition(), syns[0].examples())"
   ]
  },
  {
   "cell_type": "code",
   "execution_count": 18,
   "metadata": {},
   "outputs": [],
   "source": [
    "def getWordNetInfo(word):\n",
    "\n",
    "    # See synonyms and antonyms\n",
    "    synonyms = []\n",
    "    antonyms = []\n",
    "\n",
    "    for syn in wordnet.synsets(word):\n",
    "        for l in syn.lemmas():\n",
    "            synonyms.append(l.name())\n",
    "            if l.antonyms():\n",
    "                antonyms.append(l.antonyms()[0].name())\n",
    "\n",
    "    print(\"Synonyms - \" + str(set(synonyms)))\n",
    "    print(\"Antonyms - \" + str(set(antonyms)))"
   ]
  },
  {
   "cell_type": "code",
   "execution_count": 19,
   "metadata": {},
   "outputs": [
    {
     "name": "stdout",
     "output_type": "stream",
     "text": [
      "Synonyms - {'words', 'linguistic_process', 'oral_communication', 'spoken_language', 'speech_communication', 'terminology', 'spoken_communication', 'linguistic_communication', 'lyric', 'nomenclature', 'speech', 'language', 'voice_communication'}\n",
      "Antonyms - set()\n"
     ]
    }
   ],
   "source": [
    "getWordNetInfo(data)"
   ]
  },
  {
   "cell_type": "code",
   "execution_count": 20,
   "metadata": {},
   "outputs": [
    {
     "name": "stdout",
     "output_type": "stream",
     "text": [
      "Synonyms - {'consume', 'consider', 'shoot', 'conduct', 'accept', 'admit', 'issue', 'need', 'bring', 'take_away', 'subscribe', 'subscribe_to', 'have', 'read', 'remove', 'hold', 'ingest', 'necessitate', 'use_up', 'strike', 'train', 'assume', 'payoff', 'postulate', 'study', 'look_at', 'withdraw', 'takings', 'adopt', 'rent', 'proceeds', 'yield', 'occupy', 'deal', 'choose', 'call_for', 'lead', 'demand', 'exact', 'take', 'involve', 'film', 'aim', 'acquire', 'lease', 'hire', 'contain', 'take_on', 'pack', 'guide', 'carry', 'return', 'claim', 'charter', 'direct', 'engage', 'get', 'learn', 'select', 'fill', 'drive', 'make', 'take_up', 'contract', 'take_aim', 'get_hold_of', 'require', 'ask', 'submit', 'pick_out', 'take_in', 'convey'}\n",
      "Antonyms - {'obviate', 'abstain', 'disclaim', 'give', 'refuse'}\n"
     ]
    }
   ],
   "source": [
    "getWordNetInfo(\"take\")"
   ]
  },
  {
   "cell_type": "code",
   "execution_count": 21,
   "metadata": {},
   "outputs": [
    {
     "name": "stdout",
     "output_type": "stream",
     "text": [
      "[Synset('return.n.06'), Synset('take.n.02'), Synset('take.v.01'), Synset('take.v.02'), Synset('lead.v.01'), Synset('take.v.04'), Synset('assume.v.03'), Synset('take.v.06'), Synset('bring.v.01'), Synset('take.v.08'), Synset('take.v.09'), Synset('choose.v.01'), Synset('accept.v.02'), Synset('fill.v.04'), Synset('consider.v.03'), Synset('necessitate.v.01'), Synset('take.v.15'), Synset('film.v.01'), Synset('remove.v.01'), Synset('consume.v.02'), Synset('take.v.19'), Synset('take.v.20'), Synset('take.v.21'), Synset('assume.v.05'), Synset('accept.v.05'), Synset('take.v.24'), Synset('learn.v.04'), Synset('claim.v.05'), Synset('take.v.27'), Synset('aim.v.01'), Synset('take.v.29'), Synset('carry.v.02'), Synset('lease.v.04'), Synset('subscribe.v.05'), Synset('take.v.33'), Synset('take.v.34'), Synset('take.v.35'), Synset('claim.v.04'), Synset('accept.v.08'), Synset('contain.v.05'), Synset('take.v.39'), Synset('drive.v.16'), Synset('take.v.41'), Synset('contract.v.04')]\n"
     ]
    }
   ],
   "source": [
    "# Find and then pring\n",
    "syns = wordnet.synsets(\"take\")\n",
    "print (syns)"
   ]
  },
  {
   "cell_type": "code",
   "execution_count": 24,
   "metadata": {},
   "outputs": [
    {
     "name": "stdout",
     "output_type": "stream",
     "text": [
      "return.n.06 the income or profit arising from such transactions as the sale of land or other property ['the average return was about 5%']\n",
      "take.n.02 the act of photographing a scene or part of a scene without interruption []\n",
      "take.v.01 carry out ['take action', 'take steps', 'take vengeance']\n",
      "take.v.02 require (time or space) ['It took three hours to get to work this morning', 'This event occupied a very short time']\n",
      "lead.v.01 take somebody somewhere ['We lead him to our chief', 'can you take me to the main entrance?', 'He conducted us to the palace']\n",
      "take.v.04 get into one's hands, take physically ['Take a cookie!', 'Can you take this bag, please']\n",
      "assume.v.03 take on a certain form, attribute, or aspect ['His voice took on a sad tone', 'The story took a new turn', 'he adopted an air of superiority', 'She assumed strange manners', 'The gods assume human or animal form in these fables']\n",
      "take.v.06 interpret something in a certain way; convey a particular meaning or impression ['I read this address as a satire', 'How should I take this message?', \"You can't take credit for this!\"]\n",
      "bring.v.01 take something or somebody with oneself somewhere ['Bring me the box from the other room', 'Take these letters to the boss', 'This brings me to the main point']\n",
      "take.v.08 take into one's possession ['We are taking an orphan from Romania', \"I'll take three salmon steaks\"]\n",
      "take.v.09 travel or go by means of a certain kind of transportation, or a certain route ['He takes the bus to work', 'She takes Route 1 to Newark']\n",
      "choose.v.01 pick out, select, or choose from a number of alternatives ['Take any one of these cards', 'Choose a good husband for your daughter', 'She selected a pair of shoes from among the dozen the salesgirl had shown her']\n",
      "accept.v.02 receive willingly something given or offered [\"The only girl who would have him was the miller's daughter\", \"I won't have this dog in my house!\", 'Please accept my present']\n",
      "fill.v.04 assume, as of positions or roles ['She took the job as director of development', 'he occupies the position of manager', 'the young prince will soon occupy the throne']\n",
      "consider.v.03 take into consideration for exemplifying purposes ['Take the case of China', 'Consider the following case']\n",
      "necessitate.v.01 require as useful, just, or proper ['It takes nerve to do what she did', 'success usually requires hard work', 'This job asks a lot of patience and skill', 'This position demands a lot of personal sacrifice', 'This dinner calls for a spectacular dessert', \"This intervention does not postulate a patient's consent\"]\n",
      "take.v.15 experience or feel or submit to ['Take a test', 'Take the plunge']\n",
      "film.v.01 make a film or photograph of something ['take a scene', 'shoot a movie']\n",
      "remove.v.01 remove something concrete, as by lifting, pushing, or taking off, or remove something abstract ['remove a threat', 'remove a wrapper', 'Remove the dirty dishes from the table', 'take the gun from your pocket', 'This machine withdraws heat from the environment']\n",
      "consume.v.02 serve oneself to, or consume regularly ['Have another bowl of chicken soup!', \"I don't take sugar in my coffee\"]\n",
      "take.v.19 accept or undergo, often unwillingly ['We took a pay cut']\n",
      "take.v.20 make use of or accept for some purpose ['take a risk', 'take an opportunity']\n",
      "take.v.21 take by force ['Hitler took the Baltic Republics', 'The army took the fort on the hill']\n",
      "assume.v.05 occupy or take on ['He assumes the lotus position', 'She took her seat on the stage', 'We took our seats in the orchestra', 'She took up her position behind the tree', 'strike a pose']\n",
      "accept.v.05 admit into a group or community ['accept students for graduate study', \"We'll have to vote on whether or not to admit a new member\"]\n",
      "take.v.24 ascertain or determine by measuring, computing or take a reading from a dial ['take a pulse', \"A reading was taken of the earth's tremors\"]\n",
      "learn.v.04 be a student of a certain subject ['She is reading for the bar exam']\n",
      "claim.v.05 take as an undesirable consequence of some event or state of affairs ['the accident claimed three lives', 'The hard work took its toll on her']\n",
      "take.v.27 head into a specified direction ['The escaped convict took to the hills', 'We made for the mountains']\n",
      "aim.v.01 point or cause to go (blows, weapons, or objects such as photographic equipment) towards [\"Please don't aim at your little brother!\", 'He trained his gun on the burglar', \"Don't train your camera on the women\", \"Take a swipe at one's opponent\"]\n",
      "take.v.29 be seized or affected in a specified way ['take sick', 'be taken drunk']\n",
      "carry.v.02 have with oneself; have on one's person ['She always takes an umbrella', 'I always carry money', 'She packs a gun when she goes into the mountains']\n",
      "lease.v.04 engage for service under a term of contract ['We took an apartment on a quiet street', \"Let's rent a car\", 'Shall we take a guide in Rome?']\n",
      "subscribe.v.05 receive or obtain regularly ['We take the Times every day']\n",
      "take.v.33 buy, select [\"I'll take a pound of that sausage\"]\n",
      "take.v.34 to get into a position of having, e.g., safety, comfort ['take shelter from the storm']\n",
      "take.v.35 have sex with; archaic use ['He had taken this woman when she was most vulnerable']\n",
      "claim.v.04 lay claim to; as of an idea ['She took credit for the whole idea']\n",
      "accept.v.08 be designed to hold or take ['This surface will not take the dye']\n",
      "contain.v.05 be capable of holding or containing [\"This box won't take all the items\", 'The flask holds one gallon']\n",
      "take.v.39 develop a habit ['He took to visiting bars']\n",
      "drive.v.16 proceed along in a vehicle ['We drive the turnpike to work']\n",
      "take.v.41 obtain by winning ['Winner takes all', 'He took first prize']\n",
      "contract.v.04 be stricken by an illness, fall victim to an illness ['He got AIDS', 'She came down with pneumonia', 'She took a chill']\n"
     ]
    }
   ],
   "source": [
    "for i in syns:\n",
    "    # See name, definition, examples\n",
    "    print(i.name(), i.definition(), i.examples())"
   ]
  },
  {
   "cell_type": "code",
   "execution_count": null,
   "metadata": {},
   "outputs": [],
   "source": []
  }
 ],
 "metadata": {
  "kernelspec": {
   "display_name": "Python 3",
   "language": "python",
   "name": "python3"
  },
  "language_info": {
   "codemirror_mode": {
    "name": "ipython",
    "version": 3
   },
   "file_extension": ".py",
   "mimetype": "text/x-python",
   "name": "python",
   "nbconvert_exporter": "python",
   "pygments_lexer": "ipython3",
   "version": "3.7.6"
  }
 },
 "nbformat": 4,
 "nbformat_minor": 4
}
