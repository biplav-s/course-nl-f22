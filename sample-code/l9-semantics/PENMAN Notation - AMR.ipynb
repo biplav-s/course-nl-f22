{
 "cells": [
  {
   "cell_type": "code",
   "execution_count": 1,
   "id": "95a46db6",
   "metadata": {},
   "outputs": [],
   "source": [
    "## https://github.com/goodmami/penman/\n",
    "## https://github.com/goodmami/penman/blob/main/docs/api-demo.ipynb"
   ]
  },
  {
   "cell_type": "code",
   "execution_count": 2,
   "id": "82c24148",
   "metadata": {},
   "outputs": [],
   "source": [
    "## Install, as appropriate\n",
    "#!pip3 install penman"
   ]
  },
  {
   "cell_type": "code",
   "execution_count": 3,
   "id": "a25f5174",
   "metadata": {},
   "outputs": [
    {
     "data": {
      "text/plain": [
       "'1.1.0'"
      ]
     },
     "execution_count": 3,
     "metadata": {},
     "output_type": "execute_result"
    }
   ],
   "source": [
    "import penman\n",
    "penman.__version__"
   ]
  },
  {
   "cell_type": "code",
   "execution_count": 4,
   "id": "91681231",
   "metadata": {},
   "outputs": [],
   "source": [
    "# \n",
    "g = penman.decode('''\n",
    " # ::snt He drives carelessly\n",
    "    (d / drive-01\n",
    "   :ARG0 (h / he)\n",
    "   :manner (c / care-04\n",
    "              :polarity -))\n",
    "              ''')"
   ]
  },
  {
   "cell_type": "code",
   "execution_count": 5,
   "id": "525ff219",
   "metadata": {},
   "outputs": [
    {
     "name": "stdout",
     "output_type": "stream",
     "text": [
      "# ::snt He drives carelessly\n",
      "(d / drive-01\n",
      "   :ARG0 (h / he)\n",
      "   :manner (c / care-04\n",
      "              :polarity -))\n"
     ]
    }
   ],
   "source": [
    "print(penman.encode(g))"
   ]
  },
  {
   "cell_type": "code",
   "execution_count": 6,
   "id": "9419ff2d",
   "metadata": {},
   "outputs": [
    {
     "data": {
      "text/plain": [
       "[Instance(source='d', role=':instance', target='drive-01'),\n",
       " Instance(source='h', role=':instance', target='he'),\n",
       " Instance(source='c', role=':instance', target='care-04')]"
      ]
     },
     "execution_count": 6,
     "metadata": {},
     "output_type": "execute_result"
    }
   ],
   "source": [
    "# Introspection\n",
    "g.instances()\n"
   ]
  },
  {
   "cell_type": "code",
   "execution_count": 7,
   "id": "12f8cc1e",
   "metadata": {},
   "outputs": [
    {
     "data": {
      "text/plain": [
       "[('d', ':instance', 'drive-01'),\n",
       " ('d', ':ARG0', 'h'),\n",
       " ('h', ':instance', 'he'),\n",
       " ('d', ':manner', 'c'),\n",
       " ('c', ':instance', 'care-04'),\n",
       " ('c', ':polarity', '-')]"
      ]
     },
     "execution_count": 7,
     "metadata": {},
     "output_type": "execute_result"
    }
   ],
   "source": [
    "# Printing triples\n",
    "g.triples"
   ]
  },
  {
   "cell_type": "code",
   "execution_count": 8,
   "id": "40fef537",
   "metadata": {},
   "outputs": [
    {
     "data": {
      "text/plain": [
       "[('d', ':instance', 'drive-01'),\n",
       " ('d', ':ARG0', 'h'),\n",
       " ('h', ':instance', 'he'),\n",
       " ('d', ':manner', 'c'),\n",
       " ('c', ':instance', 'care-04'),\n",
       " ('c', ':polarity', '-'),\n",
       " ('d', ':location', 'g'),\n",
       " ('g', ':instance', 'garden')]"
      ]
     },
     "execution_count": 8,
     "metadata": {},
     "output_type": "execute_result"
    }
   ],
   "source": [
    "# Manipulating it\n",
    "g.triples.extend([('d', ':location', 'g'), ('g', ':instance', 'garden')])\n",
    "g.triples\n",
    "\n"
   ]
  },
  {
   "cell_type": "code",
   "execution_count": 9,
   "id": "411459c2",
   "metadata": {},
   "outputs": [],
   "source": [
    "## AMR parsing as an extension in Spacy\n",
    "# https://spacy.io/universe/project/amrlib "
   ]
  },
  {
   "cell_type": "code",
   "execution_count": null,
   "id": "df69c53b",
   "metadata": {},
   "outputs": [],
   "source": []
  }
 ],
 "metadata": {
  "kernelspec": {
   "display_name": "Python 3",
   "language": "python",
   "name": "python3"
  },
  "language_info": {
   "codemirror_mode": {
    "name": "ipython",
    "version": 3
   },
   "file_extension": ".py",
   "mimetype": "text/x-python",
   "name": "python",
   "nbconvert_exporter": "python",
   "pygments_lexer": "ipython3",
   "version": "3.7.6"
  }
 },
 "nbformat": 4,
 "nbformat_minor": 5
}
