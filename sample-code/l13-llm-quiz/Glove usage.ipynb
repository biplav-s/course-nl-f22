{
 "cells": [
  {
   "cell_type": "code",
   "execution_count": 1,
   "id": "9b37759e",
   "metadata": {},
   "outputs": [],
   "source": [
    "## Based on \n",
    "# - [1] https://medium.com/analytics-vidhya/basics-of-using-pre-trained-glove-vectors-in-python-d38905f356db\n",
    "# - [2] https://machinelearningmastery.com/develop-word-embeddings-python-gensim/\n",
    "# - [3] Glove site: https://nlp.stanford.edu/projects/glove/"
   ]
  },
  {
   "cell_type": "code",
   "execution_count": 2,
   "id": "465afdee",
   "metadata": {},
   "outputs": [],
   "source": [
    "# Install as necessary\n",
    "# !pip install numpy\n",
    "# !pip install scipy\n",
    "# !pip install matplotlib\n",
    "# !pip install sklearn"
   ]
  },
  {
   "cell_type": "code",
   "execution_count": 3,
   "id": "5c6c1bd7",
   "metadata": {},
   "outputs": [],
   "source": [
    "# Necessary imports\n",
    "import numpy as np\n",
    "from scipy import spatial\n",
    "import matplotlib.pyplot as plt\n",
    "from sklearn.manifold import TSNE"
   ]
  },
  {
   "cell_type": "code",
   "execution_count": 4,
   "id": "473f64da",
   "metadata": {},
   "outputs": [],
   "source": [
    "# Copy data from: https://nlp.stanford.edu/data/glove.6B.zip\n",
    "# Unzip and use file glove.6B.50d.txt; set the data path accordingly\n",
    "glove_input_file = ''\n",
    "# Note - below code will *not* run without setting the variable above"
   ]
  },
  {
   "cell_type": "code",
   "execution_count": 12,
   "id": "a4a0ccf6",
   "metadata": {},
   "outputs": [],
   "source": [
    "# We can work with Glove (Path 1) or convert it to word2vec (Path 2)"
   ]
  },
  {
   "cell_type": "markdown",
   "id": "6e41895f",
   "metadata": {},
   "source": [
    "#  Path 1 - Glove"
   ]
  },
  {
   "cell_type": "code",
   "execution_count": 5,
   "id": "4130d1dd",
   "metadata": {},
   "outputs": [],
   "source": [
    "\n",
    "# Path 1\n",
    "embeddings_dict = {}\n",
    "with open(glove_input_file, 'r') as f:\n",
    "    for line in f:\n",
    "        values = line.split()\n",
    "        word = values[0]\n",
    "        vector = np.asarray(values[1:], \"float32\")\n",
    "        embeddings_dict[word] = vector"
   ]
  },
  {
   "cell_type": "code",
   "execution_count": 6,
   "id": "28479727",
   "metadata": {},
   "outputs": [],
   "source": [
    "# A function defined for similarity\n",
    "# - See description of euclidean use in [1]\n",
    "def find_closest_embeddings(embedding):\n",
    "    return sorted(embeddings_dict.keys(), key=lambda word: spatial.distance.euclidean(embeddings_dict[word], embedding))"
   ]
  },
  {
   "cell_type": "code",
   "execution_count": 7,
   "id": "7a80c0f6",
   "metadata": {},
   "outputs": [
    {
     "data": {
      "text/plain": [
       "['king', 'prince', 'queen', 'uncle', 'ii']"
      ]
     },
     "execution_count": 7,
     "metadata": {},
     "output_type": "execute_result"
    }
   ],
   "source": [
    "# Find closest word\n",
    "find_closest_embeddings(embeddings_dict[\"king\"])[:5]"
   ]
  },
  {
   "cell_type": "code",
   "execution_count": 8,
   "id": "6dbeee9c",
   "metadata": {},
   "outputs": [
    {
     "name": "stdout",
     "output_type": "stream",
     "text": [
      "['fingernails', 'toenails', 'stringy', 'peeling', 'shove']\n"
     ]
    }
   ],
   "source": [
    "# Vector operation\n",
    "print(find_closest_embeddings(\n",
    "    embeddings_dict[\"twig\"] - embeddings_dict[\"branch\"] + embeddings_dict[\"hand\"]\n",
    ")[:5])"
   ]
  },
  {
   "cell_type": "code",
   "execution_count": 9,
   "id": "8cf3d730",
   "metadata": {},
   "outputs": [],
   "source": [
    "# For visualizing\n",
    "tsne = TSNE(n_components=2, random_state=0)"
   ]
  },
  {
   "cell_type": "code",
   "execution_count": 10,
   "id": "5606bd44",
   "metadata": {},
   "outputs": [],
   "source": [
    "# Organizing data strtuctures\n",
    "words =  list(embeddings_dict.keys())\n",
    "vectors = [embeddings_dict[word] for word in words]"
   ]
  },
  {
   "cell_type": "code",
   "execution_count": 11,
   "id": "8e0acca6",
   "metadata": {},
   "outputs": [],
   "source": [
    "Y = tsne.fit_transform(vectors[:50])"
   ]
  },
  {
   "cell_type": "code",
   "execution_count": 13,
   "id": "a761f3d1",
   "metadata": {},
   "outputs": [
    {
     "data": {
      "image/png": "[encoded data removed]",
      "text/plain": [
       "<Figure size 432x288 with 1 Axes>"
      ]
     },
     "metadata": {
      "needs_background": "light"
     },
     "output_type": "display_data"
    }
   ],
   "source": [
    "plt.scatter(Y[:, 0], Y[:, 1])\n",
    "\n",
    "for label, x, y in zip(words, Y[:, 0], Y[:, 1]):\n",
    "    plt.annotate(label, xy=(x, y), xytext=(0, 0), textcoords=\"offset points\")\n",
    "plt.show()"
   ]
  },
  {
   "cell_type": "markdown",
   "id": "5a1314e9",
   "metadata": {},
   "source": [
    "## Path 2 - via Word2Vec"
   ]
  },
  {
   "cell_type": "code",
   "execution_count": 14,
   "id": "f034f56f",
   "metadata": {},
   "outputs": [
    {
     "name": "stdout",
     "output_type": "stream",
     "text": [
      "INFO: file converted and saved to - data/word2vec.txt\n"
     ]
    }
   ],
   "source": [
    "# We can work with Glove or convert it to word2vec\n",
    "\n",
    "# Path 2\n",
    "from gensim.scripts.glove2word2vec import glove2word2vec\n",
    "word2vec_output_file = 'data/word2vec.txt'\n",
    "\n",
    "glove2word2vec(glove_input_file, word2vec_output_file)\n",
    "print(\"INFO: file converted and saved to - \" + word2vec_output_file)"
   ]
  },
  {
   "cell_type": "code",
   "execution_count": 15,
   "id": "a68d8f88",
   "metadata": {},
   "outputs": [],
   "source": [
    "from gensim.models import KeyedVectors\n",
    "\n",
    "# load the Stanford GloVe model\n",
    "filename = 'data/word2vec.txt'\n",
    "model = KeyedVectors.load_word2vec_format(filename, binary=False)\n"
   ]
  },
  {
   "cell_type": "code",
   "execution_count": 16,
   "id": "dadfc55b",
   "metadata": {},
   "outputs": [
    {
     "name": "stdout",
     "output_type": "stream",
     "text": [
      "[('queen', 0.8523603677749634)]\n"
     ]
    }
   ],
   "source": [
    "# calculate: (king - man) + woman = ?\n",
    "result = model.most_similar(positive=['woman', 'king'], negative=['man'], topn=1)\n",
    "print(result)"
   ]
  },
  {
   "cell_type": "code",
   "execution_count": 17,
   "id": "ef4f1e16",
   "metadata": {},
   "outputs": [
    {
     "name": "stdout",
     "output_type": "stream",
     "text": [
      "['king', 'queen', 'prince', 'elizabeth', 'daughter']\n"
     ]
    }
   ],
   "source": [
    "# Vector operation on glove\n",
    "print(find_closest_embeddings(\n",
    "    embeddings_dict[\"woman\"] - embeddings_dict[\"man\"] + embeddings_dict[\"king\"]\n",
    ")[:5])"
   ]
  },
  {
   "cell_type": "code",
   "execution_count": null,
   "id": "20ad22b0",
   "metadata": {},
   "outputs": [],
   "source": []
  }
 ],
 "metadata": {
  "kernelspec": {
   "display_name": "Python 3",
   "language": "python",
   "name": "python3"
  },
  "language_info": {
   "codemirror_mode": {
    "name": "ipython",
    "version": 3
   },
   "file_extension": ".py",
   "mimetype": "text/x-python",
   "name": "python",
   "nbconvert_exporter": "python",
   "pygments_lexer": "ipython3",
   "version": "3.7.6"
  }
 },
 "nbformat": 4,
 "nbformat_minor": 5
}
