{
 "cells": [
  {
   "cell_type": "markdown",
   "metadata": {},
   "source": [
    "# Shallow Parsing - Chunking"
   ]
  },
  {
   "cell_type": "code",
   "execution_count": 1,
   "metadata": {},
   "outputs": [],
   "source": [
    "# Do imports\n",
    "import nltk"
   ]
  },
  {
   "cell_type": "code",
   "execution_count": 2,
   "metadata": {},
   "outputs": [],
   "source": [
    "data = \"I prefer a morning flight.\"\n"
   ]
  },
  {
   "cell_type": "code",
   "execution_count": 3,
   "metadata": {},
   "outputs": [
    {
     "name": "stdout",
     "output_type": "stream",
     "text": [
      "[('I', 'PRP'), ('prefer', 'VBP'), ('a', 'DT'), ('morning', 'NN'), ('flight', 'NN'), ('.', '.')]\n"
     ]
    }
   ],
   "source": [
    "# Prepare data\n",
    "tokens = nltk.word_tokenize(data)\n",
    "tag = nltk.pos_tag(tokens)\n",
    "print (tag)"
   ]
  },
  {
   "cell_type": "code",
   "execution_count": 4,
   "metadata": {},
   "outputs": [],
   "source": [
    "# Grammar to use\n",
    "## Reference: https://www.nltk.org/book/ch07.html\n",
    "grammar = \"NP: {<DT>?<JJ>*<NN>}\" # determiner (DT) followed by any number of adjectives (JJ) and then a noun (NN)\n",
    "cp  =nltk.RegexpParser(grammar)"
   ]
  },
  {
   "cell_type": "code",
   "execution_count": 5,
   "metadata": {},
   "outputs": [
    {
     "name": "stdout",
     "output_type": "stream",
     "text": [
      "(S I/PRP prefer/VBP (NP a/DT morning/NN) (NP flight/NN) ./.)\n"
     ]
    }
   ],
   "source": [
    "# Parse based on regex\n",
    "result = cp.parse(tag)\n",
    "print(result)"
   ]
  },
  {
   "cell_type": "code",
   "execution_count": 6,
   "metadata": {},
   "outputs": [],
   "source": [
    "# Another grammar\n",
    "## Reference: https://www.nltk.org/book/ch07.html\n",
    "grammar = \"NP: {<NN><NN>}  # Chunk two consecutive nouns\"\n",
    "cp  =nltk.RegexpParser(grammar)"
   ]
  },
  {
   "cell_type": "code",
   "execution_count": 7,
   "metadata": {},
   "outputs": [
    {
     "name": "stdout",
     "output_type": "stream",
     "text": [
      "(S I/PRP prefer/VBP a/DT (NP morning/NN flight/NN) ./.)\n"
     ]
    }
   ],
   "source": [
    "# Parse based on regex\n",
    "result = cp.parse(tag)\n",
    "print(result)"
   ]
  },
  {
   "cell_type": "markdown",
   "metadata": {},
   "source": [
    "## Another example"
   ]
  },
  {
   "cell_type": "code",
   "execution_count": 8,
   "metadata": {},
   "outputs": [
    {
     "name": "stdout",
     "output_type": "stream",
     "text": [
      "['The', 'authority', 'did', 'not', 'permit', 'giving', 'of', 'fishing', 'permit', '.']\n"
     ]
    }
   ],
   "source": [
    "\n",
    "data = \"The authority did not permit giving of fishing permit.\"\n",
    "tokens = nltk.word_tokenize(data)\n",
    "print(tokens)\n"
   ]
  },
  {
   "cell_type": "code",
   "execution_count": 9,
   "metadata": {},
   "outputs": [
    {
     "name": "stdout",
     "output_type": "stream",
     "text": [
      "[('The', 'DT'), ('authority', 'NN'), ('did', 'VBD'), ('not', 'RB'), ('permit', 'VB'), ('giving', 'VBG'), ('of', 'IN'), ('fishing', 'VBG'), ('permit', 'NN'), ('.', '.')]\n"
     ]
    }
   ],
   "source": [
    "tag = nltk.pos_tag(tokens)\n",
    "print(tag)\n"
   ]
  },
  {
   "cell_type": "code",
   "execution_count": 10,
   "metadata": {},
   "outputs": [
    {
     "name": "stdout",
     "output_type": "stream",
     "text": [
      "(S\n",
      "  (NP The/DT authority/NN)\n",
      "  did/VBD\n",
      "  not/RB\n",
      "  permit/VB\n",
      "  giving/VBG\n",
      "  of/IN\n",
      "  fishing/VBG\n",
      "  (NP permit/NN)\n",
      "  ./.)\n"
     ]
    }
   ],
   "source": [
    "grammar = \"NP: {<DT>?<JJ>*<NN>}\"\n",
    "cp  =nltk.RegexpParser(grammar)\n",
    "result = cp.parse(tag)\n",
    "print(result)\n"
   ]
  },
  {
   "cell_type": "code",
   "execution_count": 11,
   "metadata": {},
   "outputs": [],
   "source": [
    "result.draw()    # It will draw the pattern graphically which can be seen in Noun Phrase chunking "
   ]
  },
  {
   "cell_type": "code",
   "execution_count": 12,
   "metadata": {},
   "outputs": [
    {
     "name": "stdout",
     "output_type": "stream",
     "text": [
      "(S I/PRP prefer/VBP (NP a/DT morning/NN) (NP flight/NN) ./.)\n"
     ]
    }
   ],
   "source": [
    "# Do for a running example\n",
    "data = \"I prefer a morning flight.\"\n",
    "tokens = nltk.word_tokenize(data)\n",
    "tag = nltk.pos_tag(tokens)\n",
    "result = cp.parse(tag)\n",
    "print(result)"
   ]
  },
  {
   "cell_type": "code",
   "execution_count": 13,
   "metadata": {},
   "outputs": [],
   "source": [
    "result.draw()"
   ]
  },
  {
   "cell_type": "code",
   "execution_count": null,
   "metadata": {},
   "outputs": [],
   "source": []
  }
 ],
 "metadata": {
  "kernelspec": {
   "display_name": "Python 3",
   "language": "python",
   "name": "python3"
  },
  "language_info": {
   "codemirror_mode": {
    "name": "ipython",
    "version": 3
   },
   "file_extension": ".py",
   "mimetype": "text/x-python",
   "name": "python",
   "nbconvert_exporter": "python",
   "pygments_lexer": "ipython3",
   "version": "3.7.6"
  }
 },
 "nbformat": 4,
 "nbformat_minor": 4
}
