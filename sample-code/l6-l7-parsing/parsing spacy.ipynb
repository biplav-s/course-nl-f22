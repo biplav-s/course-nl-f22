{
 "cells": [
  {
   "cell_type": "code",
   "execution_count": 14,
   "metadata": {},
   "outputs": [],
   "source": [
    "# Based on examples at: https://realpython.com/natural-language-processing-spacy-python/"
   ]
  },
  {
   "cell_type": "code",
   "execution_count": 15,
   "metadata": {},
   "outputs": [],
   "source": [
    "# Do imports\n",
    "import spacy\n",
    "nlp = spacy.load('en_core_web_sm')"
   ]
  },
  {
   "cell_type": "code",
   "execution_count": 16,
   "metadata": {},
   "outputs": [],
   "source": [
    "# Prepare string\n",
    "text = (\"The authority did not permit giving of fishing permit.\")\n",
    "doc = nlp(text)"
   ]
  },
  {
   "cell_type": "code",
   "execution_count": 17,
   "metadata": {},
   "outputs": [
    {
     "name": "stdout",
     "output_type": "stream",
     "text": [
      "['The', 'authority', 'did', 'not', 'permit', 'giving', 'of', 'fishing', 'permit', '.']\n"
     ]
    }
   ],
   "source": [
    "# Print tokens\n",
    "print ([token.text for token in doc])"
   ]
  },
  {
   "cell_type": "code",
   "execution_count": 18,
   "metadata": {},
   "outputs": [
    {
     "name": "stdout",
     "output_type": "stream",
     "text": [
      "[('The', 'the'), ('authority', 'authority'), ('did', 'do'), ('not', 'not'), ('permit', 'permit'), ('giving', 'give'), ('of', 'of'), ('fishing', 'fishing'), ('permit', 'permit'), ('.', '.')]\n"
     ]
    }
   ],
   "source": [
    "# Print tokens and lemmas\n",
    "print ([(token.text, token.lemma_) for token in doc])"
   ]
  },
  {
   "cell_type": "code",
   "execution_count": 19,
   "metadata": {},
   "outputs": [
    {
     "name": "stdout",
     "output_type": "stream",
     "text": [
      "The DT DET determiner\n",
      "authority NN NOUN noun, singular or mass\n",
      "did VBD AUX verb, past tense\n",
      "not RB PART adverb\n",
      "permit VB VERB verb, base form\n",
      "giving VBG VERB verb, gerund or present participle\n",
      "of IN ADP conjunction, subordinating or preposition\n",
      "fishing NN NOUN noun, singular or mass\n",
      "permit NN NOUN noun, singular or mass\n",
      ". . PUNCT punctuation mark, sentence closer\n"
     ]
    }
   ],
   "source": [
    "# Parts of speech\n",
    "for token in doc:\n",
    "    print (token, token.tag_, token.pos_, spacy.explain(token.tag_))"
   ]
  },
  {
   "cell_type": "code",
   "execution_count": 21,
   "metadata": {},
   "outputs": [
    {
     "name": "stdout",
     "output_type": "stream",
     "text": [
      "The authority\n",
      "fishing permit\n"
     ]
    }
   ],
   "source": [
    "# Chunking to get nouns\n",
    "for chunk in doc.noun_chunks:\n",
    "    print (chunk)"
   ]
  },
  {
   "cell_type": "code",
   "execution_count": 22,
   "metadata": {},
   "outputs": [
    {
     "data": {
      "text/html": [
       "<span class=\"tex2jax_ignore\"><svg xmlns=\"http://www.w3.org/2000/svg\" xmlns:xlink=\"http://www.w3.org/1999/xlink\" xml:lang=\"en\" id=\"db1105f4be3d4497b2dc6107ad8eb9bc-0\" class=\"displacy\" width=\"1625\" height=\"399.5\" direction=\"ltr\" style=\"max-width: none; height: 399.5px; color: #000000; background: #ffffff; font-family: Arial; direction: ltr\">\n",
       "<text class=\"displacy-token\" fill=\"currentColor\" text-anchor=\"middle\" y=\"309.5\">\n",
       "    <tspan class=\"displacy-word\" fill=\"currentColor\" x=\"50\">The</tspan>\n",
       "    <tspan class=\"displacy-tag\" dy=\"2em\" fill=\"currentColor\" x=\"50\">DET</tspan>\n",
       "</text>\n",
       "\n",
       "<text class=\"displacy-token\" fill=\"currentColor\" text-anchor=\"middle\" y=\"309.5\">\n",
       "    <tspan class=\"displacy-word\" fill=\"currentColor\" x=\"225\">authority</tspan>\n",
       "    <tspan class=\"displacy-tag\" dy=\"2em\" fill=\"currentColor\" x=\"225\">NOUN</tspan>\n",
       "</text>\n",
       "\n",
       "<text class=\"displacy-token\" fill=\"currentColor\" text-anchor=\"middle\" y=\"309.5\">\n",
       "    <tspan class=\"displacy-word\" fill=\"currentColor\" x=\"400\">did</tspan>\n",
       "    <tspan class=\"displacy-tag\" dy=\"2em\" fill=\"currentColor\" x=\"400\">AUX</tspan>\n",
       "</text>\n",
       "\n",
       "<text class=\"displacy-token\" fill=\"currentColor\" text-anchor=\"middle\" y=\"309.5\">\n",
       "    <tspan class=\"displacy-word\" fill=\"currentColor\" x=\"575\">not</tspan>\n",
       "    <tspan class=\"displacy-tag\" dy=\"2em\" fill=\"currentColor\" x=\"575\">PART</tspan>\n",
       "</text>\n",
       "\n",
       "<text class=\"displacy-token\" fill=\"currentColor\" text-anchor=\"middle\" y=\"309.5\">\n",
       "    <tspan class=\"displacy-word\" fill=\"currentColor\" x=\"750\">permit</tspan>\n",
       "    <tspan class=\"displacy-tag\" dy=\"2em\" fill=\"currentColor\" x=\"750\">VERB</tspan>\n",
       "</text>\n",
       "\n",
       "<text class=\"displacy-token\" fill=\"currentColor\" text-anchor=\"middle\" y=\"309.5\">\n",
       "    <tspan class=\"displacy-word\" fill=\"currentColor\" x=\"925\">giving</tspan>\n",
       "    <tspan class=\"displacy-tag\" dy=\"2em\" fill=\"currentColor\" x=\"925\">VERB</tspan>\n",
       "</text>\n",
       "\n",
       "<text class=\"displacy-token\" fill=\"currentColor\" text-anchor=\"middle\" y=\"309.5\">\n",
       "    <tspan class=\"displacy-word\" fill=\"currentColor\" x=\"1100\">of</tspan>\n",
       "    <tspan class=\"displacy-tag\" dy=\"2em\" fill=\"currentColor\" x=\"1100\">ADP</tspan>\n",
       "</text>\n",
       "\n",
       "<text class=\"displacy-token\" fill=\"currentColor\" text-anchor=\"middle\" y=\"309.5\">\n",
       "    <tspan class=\"displacy-word\" fill=\"currentColor\" x=\"1275\">fishing</tspan>\n",
       "    <tspan class=\"displacy-tag\" dy=\"2em\" fill=\"currentColor\" x=\"1275\">NOUN</tspan>\n",
       "</text>\n",
       "\n",
       "<text class=\"displacy-token\" fill=\"currentColor\" text-anchor=\"middle\" y=\"309.5\">\n",
       "    <tspan class=\"displacy-word\" fill=\"currentColor\" x=\"1450\">permit.</tspan>\n",
       "    <tspan class=\"displacy-tag\" dy=\"2em\" fill=\"currentColor\" x=\"1450\">NOUN</tspan>\n",
       "</text>\n",
       "\n",
       "<g class=\"displacy-arrow\">\n",
       "    <path class=\"displacy-arc\" id=\"arrow-db1105f4be3d4497b2dc6107ad8eb9bc-0-0\" stroke-width=\"2px\" d=\"M70,264.5 C70,177.0 215.0,177.0 215.0,264.5\" fill=\"none\" stroke=\"currentColor\"/>\n",
       "    <text dy=\"1.25em\" style=\"font-size: 0.8em; letter-spacing: 1px\">\n",
       "        <textPath xlink:href=\"#arrow-db1105f4be3d4497b2dc6107ad8eb9bc-0-0\" class=\"displacy-label\" startOffset=\"50%\" side=\"left\" fill=\"currentColor\" text-anchor=\"middle\">det</textPath>\n",
       "    </text>\n",
       "    <path class=\"displacy-arrowhead\" d=\"M70,266.5 L62,254.5 78,254.5\" fill=\"currentColor\"/>\n",
       "</g>\n",
       "\n",
       "<g class=\"displacy-arrow\">\n",
       "    <path class=\"displacy-arc\" id=\"arrow-db1105f4be3d4497b2dc6107ad8eb9bc-0-1\" stroke-width=\"2px\" d=\"M245,264.5 C245,2.0 750.0,2.0 750.0,264.5\" fill=\"none\" stroke=\"currentColor\"/>\n",
       "    <text dy=\"1.25em\" style=\"font-size: 0.8em; letter-spacing: 1px\">\n",
       "        <textPath xlink:href=\"#arrow-db1105f4be3d4497b2dc6107ad8eb9bc-0-1\" class=\"displacy-label\" startOffset=\"50%\" side=\"left\" fill=\"currentColor\" text-anchor=\"middle\">nsubj</textPath>\n",
       "    </text>\n",
       "    <path class=\"displacy-arrowhead\" d=\"M245,266.5 L237,254.5 253,254.5\" fill=\"currentColor\"/>\n",
       "</g>\n",
       "\n",
       "<g class=\"displacy-arrow\">\n",
       "    <path class=\"displacy-arc\" id=\"arrow-db1105f4be3d4497b2dc6107ad8eb9bc-0-2\" stroke-width=\"2px\" d=\"M420,264.5 C420,89.5 745.0,89.5 745.0,264.5\" fill=\"none\" stroke=\"currentColor\"/>\n",
       "    <text dy=\"1.25em\" style=\"font-size: 0.8em; letter-spacing: 1px\">\n",
       "        <textPath xlink:href=\"#arrow-db1105f4be3d4497b2dc6107ad8eb9bc-0-2\" class=\"displacy-label\" startOffset=\"50%\" side=\"left\" fill=\"currentColor\" text-anchor=\"middle\">aux</textPath>\n",
       "    </text>\n",
       "    <path class=\"displacy-arrowhead\" d=\"M420,266.5 L412,254.5 428,254.5\" fill=\"currentColor\"/>\n",
       "</g>\n",
       "\n",
       "<g class=\"displacy-arrow\">\n",
       "    <path class=\"displacy-arc\" id=\"arrow-db1105f4be3d4497b2dc6107ad8eb9bc-0-3\" stroke-width=\"2px\" d=\"M595,264.5 C595,177.0 740.0,177.0 740.0,264.5\" fill=\"none\" stroke=\"currentColor\"/>\n",
       "    <text dy=\"1.25em\" style=\"font-size: 0.8em; letter-spacing: 1px\">\n",
       "        <textPath xlink:href=\"#arrow-db1105f4be3d4497b2dc6107ad8eb9bc-0-3\" class=\"displacy-label\" startOffset=\"50%\" side=\"left\" fill=\"currentColor\" text-anchor=\"middle\">neg</textPath>\n",
       "    </text>\n",
       "    <path class=\"displacy-arrowhead\" d=\"M595,266.5 L587,254.5 603,254.5\" fill=\"currentColor\"/>\n",
       "</g>\n",
       "\n",
       "<g class=\"displacy-arrow\">\n",
       "    <path class=\"displacy-arc\" id=\"arrow-db1105f4be3d4497b2dc6107ad8eb9bc-0-4\" stroke-width=\"2px\" d=\"M770,264.5 C770,177.0 915.0,177.0 915.0,264.5\" fill=\"none\" stroke=\"currentColor\"/>\n",
       "    <text dy=\"1.25em\" style=\"font-size: 0.8em; letter-spacing: 1px\">\n",
       "        <textPath xlink:href=\"#arrow-db1105f4be3d4497b2dc6107ad8eb9bc-0-4\" class=\"displacy-label\" startOffset=\"50%\" side=\"left\" fill=\"currentColor\" text-anchor=\"middle\">dobj</textPath>\n",
       "    </text>\n",
       "    <path class=\"displacy-arrowhead\" d=\"M915.0,266.5 L923.0,254.5 907.0,254.5\" fill=\"currentColor\"/>\n",
       "</g>\n",
       "\n",
       "<g class=\"displacy-arrow\">\n",
       "    <path class=\"displacy-arc\" id=\"arrow-db1105f4be3d4497b2dc6107ad8eb9bc-0-5\" stroke-width=\"2px\" d=\"M945,264.5 C945,177.0 1090.0,177.0 1090.0,264.5\" fill=\"none\" stroke=\"currentColor\"/>\n",
       "    <text dy=\"1.25em\" style=\"font-size: 0.8em; letter-spacing: 1px\">\n",
       "        <textPath xlink:href=\"#arrow-db1105f4be3d4497b2dc6107ad8eb9bc-0-5\" class=\"displacy-label\" startOffset=\"50%\" side=\"left\" fill=\"currentColor\" text-anchor=\"middle\">prep</textPath>\n",
       "    </text>\n",
       "    <path class=\"displacy-arrowhead\" d=\"M1090.0,266.5 L1098.0,254.5 1082.0,254.5\" fill=\"currentColor\"/>\n",
       "</g>\n",
       "\n",
       "<g class=\"displacy-arrow\">\n",
       "    <path class=\"displacy-arc\" id=\"arrow-db1105f4be3d4497b2dc6107ad8eb9bc-0-6\" stroke-width=\"2px\" d=\"M1295,264.5 C1295,177.0 1440.0,177.0 1440.0,264.5\" fill=\"none\" stroke=\"currentColor\"/>\n",
       "    <text dy=\"1.25em\" style=\"font-size: 0.8em; letter-spacing: 1px\">\n",
       "        <textPath xlink:href=\"#arrow-db1105f4be3d4497b2dc6107ad8eb9bc-0-6\" class=\"displacy-label\" startOffset=\"50%\" side=\"left\" fill=\"currentColor\" text-anchor=\"middle\">compound</textPath>\n",
       "    </text>\n",
       "    <path class=\"displacy-arrowhead\" d=\"M1295,266.5 L1287,254.5 1303,254.5\" fill=\"currentColor\"/>\n",
       "</g>\n",
       "\n",
       "<g class=\"displacy-arrow\">\n",
       "    <path class=\"displacy-arc\" id=\"arrow-db1105f4be3d4497b2dc6107ad8eb9bc-0-7\" stroke-width=\"2px\" d=\"M1120,264.5 C1120,89.5 1445.0,89.5 1445.0,264.5\" fill=\"none\" stroke=\"currentColor\"/>\n",
       "    <text dy=\"1.25em\" style=\"font-size: 0.8em; letter-spacing: 1px\">\n",
       "        <textPath xlink:href=\"#arrow-db1105f4be3d4497b2dc6107ad8eb9bc-0-7\" class=\"displacy-label\" startOffset=\"50%\" side=\"left\" fill=\"currentColor\" text-anchor=\"middle\">pobj</textPath>\n",
       "    </text>\n",
       "    <path class=\"displacy-arrowhead\" d=\"M1445.0,266.5 L1453.0,254.5 1437.0,254.5\" fill=\"currentColor\"/>\n",
       "</g>\n",
       "</svg></span>"
      ],
      "text/plain": [
       "<IPython.core.display.HTML object>"
      ]
     },
     "metadata": {},
     "output_type": "display_data"
    }
   ],
   "source": [
    "# Show dependency graph\n",
    "from spacy import displacy\n",
    "displacy.render(doc, style='dep')"
   ]
  },
  {
   "cell_type": "code",
   "execution_count": 24,
   "metadata": {},
   "outputs": [
    {
     "name": "stdout",
     "output_type": "stream",
     "text": [
      "Collecting textacy\n",
      "  Downloading textacy-0.10.1-py3-none-any.whl (183 kB)\n",
      "\u001b[K     |████████████████████████████████| 183 kB 1.0 MB/s eta 0:00:01\n",
      "\u001b[?25hCollecting jellyfish>=0.7.0\n",
      "  Downloading jellyfish-0.8.2.tar.gz (134 kB)\n",
      "\u001b[K     |████████████████████████████████| 134 kB 11.8 MB/s eta 0:00:01\n",
      "\u001b[?25hRequirement already satisfied: requests>=2.10.0 in /Users/biplavs/opt/anaconda3/lib/python3.7/site-packages (from textacy) (2.22.0)\n",
      "Requirement already satisfied: networkx>=2.0 in /Users/biplavs/opt/anaconda3/lib/python3.7/site-packages (from textacy) (2.4)\n",
      "Requirement already satisfied: spacy<3.0.0,>=2.2.0 in /Users/biplavs/opt/anaconda3/lib/python3.7/site-packages (from textacy) (2.3.2)\n",
      "Collecting pyemd>=0.5.0\n",
      "  Downloading pyemd-0.5.1.tar.gz (91 kB)\n",
      "\u001b[K     |████████████████████████████████| 91 kB 11.1 MB/s eta 0:00:01\n",
      "\u001b[?25hCollecting pyphen>=0.9.4\n",
      "  Downloading Pyphen-0.9.5-py2.py3-none-any.whl (3.0 MB)\n",
      "\u001b[K     |████████████████████████████████| 3.0 MB 13.2 MB/s eta 0:00:01\n",
      "\u001b[?25hRequirement already satisfied: scikit-learn<0.24.0,>=0.19.0 in /Users/biplavs/opt/anaconda3/lib/python3.7/site-packages (from textacy) (0.22.1)\n",
      "Requirement already satisfied: scipy>=0.17.0 in /Users/biplavs/opt/anaconda3/lib/python3.7/site-packages (from textacy) (1.4.1)\n",
      "Requirement already satisfied: cachetools>=2.0.1 in /Users/biplavs/opt/anaconda3/lib/python3.7/site-packages (from textacy) (4.1.1)\n",
      "Requirement already satisfied: cytoolz>=0.8.0 in /Users/biplavs/opt/anaconda3/lib/python3.7/site-packages (from textacy) (0.10.1)\n",
      "Requirement already satisfied: tqdm>=4.19.6 in /Users/biplavs/opt/anaconda3/lib/python3.7/site-packages (from textacy) (4.42.1)\n",
      "Requirement already satisfied: joblib>=0.13.0 in /Users/biplavs/opt/anaconda3/lib/python3.7/site-packages (from textacy) (0.14.1)\n",
      "Requirement already satisfied: srsly>=0.0.5 in /Users/biplavs/opt/anaconda3/lib/python3.7/site-packages (from textacy) (1.0.2)\n",
      "Requirement already satisfied: numpy>=1.17.0 in /Users/biplavs/opt/anaconda3/lib/python3.7/site-packages (from textacy) (1.18.1)\n",
      "Requirement already satisfied: idna<2.9,>=2.5 in /Users/biplavs/opt/anaconda3/lib/python3.7/site-packages (from requests>=2.10.0->textacy) (2.8)\n",
      "Requirement already satisfied: certifi>=2017.4.17 in /Users/biplavs/opt/anaconda3/lib/python3.7/site-packages (from requests>=2.10.0->textacy) (2019.11.28)\n",
      "Requirement already satisfied: chardet<3.1.0,>=3.0.2 in /Users/biplavs/opt/anaconda3/lib/python3.7/site-packages (from requests>=2.10.0->textacy) (3.0.4)\n",
      "Requirement already satisfied: urllib3!=1.25.0,!=1.25.1,<1.26,>=1.21.1 in /Users/biplavs/opt/anaconda3/lib/python3.7/site-packages (from requests>=2.10.0->textacy) (1.25.8)\n",
      "Requirement already satisfied: decorator>=4.3.0 in /Users/biplavs/opt/anaconda3/lib/python3.7/site-packages (from networkx>=2.0->textacy) (4.4.1)\n",
      "Requirement already satisfied: cymem<2.1.0,>=2.0.2 in /Users/biplavs/opt/anaconda3/lib/python3.7/site-packages (from spacy<3.0.0,>=2.2.0->textacy) (2.0.3)\n",
      "Requirement already satisfied: catalogue<1.1.0,>=0.0.7 in /Users/biplavs/opt/anaconda3/lib/python3.7/site-packages (from spacy<3.0.0,>=2.2.0->textacy) (1.0.0)\n",
      "Requirement already satisfied: thinc==7.4.1 in /Users/biplavs/opt/anaconda3/lib/python3.7/site-packages (from spacy<3.0.0,>=2.2.0->textacy) (7.4.1)\n",
      "Requirement already satisfied: setuptools in /Users/biplavs/opt/anaconda3/lib/python3.7/site-packages (from spacy<3.0.0,>=2.2.0->textacy) (46.0.0.post20200309)\n",
      "Requirement already satisfied: plac<1.2.0,>=0.9.6 in /Users/biplavs/opt/anaconda3/lib/python3.7/site-packages (from spacy<3.0.0,>=2.2.0->textacy) (1.1.3)\n",
      "Requirement already satisfied: preshed<3.1.0,>=3.0.2 in /Users/biplavs/opt/anaconda3/lib/python3.7/site-packages (from spacy<3.0.0,>=2.2.0->textacy) (3.0.2)\n",
      "Requirement already satisfied: murmurhash<1.1.0,>=0.28.0 in /Users/biplavs/opt/anaconda3/lib/python3.7/site-packages (from spacy<3.0.0,>=2.2.0->textacy) (1.0.2)\n",
      "Requirement already satisfied: wasabi<1.1.0,>=0.4.0 in /Users/biplavs/opt/anaconda3/lib/python3.7/site-packages (from spacy<3.0.0,>=2.2.0->textacy) (0.7.1)\n",
      "Requirement already satisfied: blis<0.5.0,>=0.4.0 in /Users/biplavs/opt/anaconda3/lib/python3.7/site-packages (from spacy<3.0.0,>=2.2.0->textacy) (0.4.1)\n",
      "Requirement already satisfied: toolz>=0.8.0 in /Users/biplavs/opt/anaconda3/lib/python3.7/site-packages (from cytoolz>=0.8.0->textacy) (0.10.0)\n",
      "Requirement already satisfied: importlib-metadata>=0.20; python_version < \"3.8\" in /Users/biplavs/opt/anaconda3/lib/python3.7/site-packages (from catalogue<1.1.0,>=0.0.7->spacy<3.0.0,>=2.2.0->textacy) (1.5.0)\n",
      "Requirement already satisfied: zipp>=0.5 in /Users/biplavs/opt/anaconda3/lib/python3.7/site-packages (from importlib-metadata>=0.20; python_version < \"3.8\"->catalogue<1.1.0,>=0.0.7->spacy<3.0.0,>=2.2.0->textacy) (2.2.0)\n",
      "Building wheels for collected packages: jellyfish, pyemd\n",
      "  Building wheel for jellyfish (setup.py) ... \u001b[?25ldone\n",
      "\u001b[?25h  Created wheel for jellyfish: filename=jellyfish-0.8.2-cp37-cp37m-macosx_10_9_x86_64.whl size=23910 sha256=fe630c1d36c3ea2fc0d6e73fba9c3b9de5382e673c3152496177cfc2ddc7f720\n",
      "  Stored in directory: /Users/biplavs/Library/Caches/pip/wheels/12/9e/c1/46af1db49a60a4adf555196c0ead132e4a36a2bd69b078e740\n",
      "  Building wheel for pyemd (setup.py) ... \u001b[?25ldone\n",
      "\u001b[?25h  Created wheel for pyemd: filename=pyemd-0.5.1-cp37-cp37m-macosx_10_9_x86_64.whl size=79794 sha256=ad4acd36403c2a9402d899130a90a85ad59dbd1ed3161f0a38c1f365bf1cac07\n",
      "  Stored in directory: /Users/biplavs/Library/Caches/pip/wheels/91/ed/01/9f0beae80e84fc5053f69df3bf956308f2f1ca14b0bf422c32\n",
      "Successfully built jellyfish pyemd\n",
      "Installing collected packages: jellyfish, pyemd, pyphen, textacy\n",
      "Successfully installed jellyfish-0.8.2 pyemd-0.5.1 pyphen-0.9.5 textacy-0.10.1\n"
     ]
    }
   ],
   "source": [
    "# For analyzing verbs, we need to install textacy\n",
    "!pip install textacy"
   ]
  },
  {
   "cell_type": "code",
   "execution_count": 25,
   "metadata": {},
   "outputs": [],
   "source": [
    "# Do import\n",
    "import textacy"
   ]
  },
  {
   "cell_type": "code",
   "execution_count": 26,
   "metadata": {},
   "outputs": [],
   "source": [
    "# Make internal obj\n",
    "new_doc = textacy.make_spacy_doc(text,  lang='en_core_web_sm')"
   ]
  },
  {
   "cell_type": "code",
   "execution_count": 31,
   "metadata": {},
   "outputs": [],
   "source": [
    "# Parse for verb specification\n",
    "pattern = r'(<VERB>?<ADV>*<VERB>+)'\n",
    "verb_phrases = textacy.extract.pos_regex_matches(new_doc, pattern)"
   ]
  },
  {
   "cell_type": "code",
   "execution_count": 32,
   "metadata": {},
   "outputs": [
    {
     "name": "stdout",
     "output_type": "stream",
     "text": [
      "permit giving\n"
     ]
    },
    {
     "name": "stderr",
     "output_type": "stream",
     "text": [
      "/Users/biplavs/opt/anaconda3/lib/python3.7/site-packages/textacy/extract.py:338: DeprecationWarning: `pos_regex_matches()` has been deprecated! for similar but more powerful and performant functionality, use `textacy.extract.matches()` instead.\n",
      "  action=\"once\",\n"
     ]
    }
   ],
   "source": [
    "for chunk in verb_phrases:\n",
    "    print(chunk.text)"
   ]
  },
  {
   "cell_type": "code",
   "execution_count": null,
   "metadata": {},
   "outputs": [],
   "source": []
  }
 ],
 "metadata": {
  "kernelspec": {
   "display_name": "Python 3",
   "language": "python",
   "name": "python3"
  },
  "language_info": {
   "codemirror_mode": {
    "name": "ipython",
    "version": 3
   },
   "file_extension": ".py",
   "mimetype": "text/x-python",
   "name": "python",
   "nbconvert_exporter": "python",
   "pygments_lexer": "ipython3",
   "version": "3.7.6"
  }
 },
 "nbformat": 4,
 "nbformat_minor": 4
}
