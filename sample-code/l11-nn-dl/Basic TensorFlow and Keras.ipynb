{
 "cells": [
  {
   "cell_type": "code",
   "execution_count": 1,
   "metadata": {},
   "outputs": [],
   "source": [
    "# First version of this code:\n",
    "# - https://github.com/biplav-s/course-nl/blob/master/l9-ml-review/Basic%20TensorFlow%20and%20Keras.ipynb\n",
    "#\n",
    "## References\n",
    "#  - Keras for prediction: https://machinelearningmastery.com/tutorial-first-neural-network-python-keras/\n",
    "#  - Visalizing: https://towardsdatascience.com/visualizing-artificial-neural-networks-anns-with-just-one-line-of-code-b4233607209e"
   ]
  },
  {
   "cell_type": "code",
   "execution_count": 2,
   "metadata": {},
   "outputs": [],
   "source": [
    "## For installation, if not present \n",
    "#\n",
    "# Tensorflow first\n",
    "# -- From tensorflow 1.x to 2.x, may have to uninstall previous one\n",
    "#!pip uninstall tensorflow\n",
    "#!pip uninstall protobuf\n",
    "# ---\n",
    "#!pip install tensorflow\n",
    "#\n",
    "# -- Other libraries\n",
    "#!pip install keras\n",
    "#!pip install ann_visualizer\n",
    "#!pip install graphviz"
   ]
  },
  {
   "cell_type": "markdown",
   "metadata": {},
   "source": [
    "## Basic TensorFlow Usage"
   ]
  },
  {
   "cell_type": "code",
   "execution_count": 3,
   "metadata": {},
   "outputs": [],
   "source": [
    "# Import TensorFlow\n",
    "import tensorflow as tf"
   ]
  },
  {
   "cell_type": "code",
   "execution_count": 4,
   "metadata": {},
   "outputs": [],
   "source": [
    "x = tf.constant(2, name=\"input_x\")\n",
    "y = tf.constant(3, name=\"input_y\")"
   ]
  },
  {
   "cell_type": "code",
   "execution_count": 5,
   "metadata": {},
   "outputs": [],
   "source": [
    "sum_ = tf.add(x, y, name=\"sum\")"
   ]
  },
  {
   "cell_type": "code",
   "execution_count": 6,
   "metadata": {},
   "outputs": [
    {
     "name": "stdout",
     "output_type": "stream",
     "text": [
      "5\n"
     ]
    }
   ],
   "source": [
    "## Reference on change from V1 to V2\n",
    "#  - https://www.tensorflow.org/guide/migrate\n",
    "\n",
    "    \n",
    "## TensforFlow V2.0\n",
    "tf.print(sum_)\n",
    "## TensorFlow V1.0\n",
    "# sess = tf.Session()\n",
    "# sess.run(sum_)"
   ]
  },
  {
   "cell_type": "markdown",
   "metadata": {},
   "source": [
    "## Using TF via Keras"
   ]
  },
  {
   "cell_type": "code",
   "execution_count": 7,
   "metadata": {},
   "outputs": [],
   "source": [
    "from keras.models import Sequential\n",
    "from keras.layers import Dense\n",
    "# first neural network with keras tutorial\n",
    "from numpy import loadtxt"
   ]
  },
  {
   "cell_type": "code",
   "execution_count": 8,
   "metadata": {},
   "outputs": [],
   "source": [
    "# load the dataset\n",
    "dataset = loadtxt('./data/pima-indians-diabetes.csv', delimiter=',')"
   ]
  },
  {
   "cell_type": "markdown",
   "metadata": {},
   "source": [
    "### Data format\n",
    "Input Variables (X):\n",
    "\n",
    "    Number of times pregnant\n",
    "    Plasma glucose concentration a 2 hours in an oral glucose tolerance test\n",
    "    Diastolic blood pressure (mm Hg)\n",
    "    Triceps skin fold thickness (mm)\n",
    "    2-Hour serum insulin (mu U/ml)\n",
    "    Body mass index (weight in kg/(height in m)^2)\n",
    "    Diabetes pedigree function\n",
    "    Age (years)\n",
    "\n",
    "Output Variables (y):\n",
    "\n",
    "    Class variable (0 or 1)"
   ]
  },
  {
   "cell_type": "code",
   "execution_count": 9,
   "metadata": {},
   "outputs": [],
   "source": [
    "# First 8 columns are the input to NN, last is output label\n",
    "X = dataset[:,0:8]\n",
    "y = dataset[:,8]"
   ]
  },
  {
   "cell_type": "code",
   "execution_count": 10,
   "metadata": {},
   "outputs": [],
   "source": [
    "# The keras model\n",
    "model = Sequential()\n",
    "model.add(Dense(12, input_dim=8, activation='relu'))\n",
    "model.add(Dense(8, activation='relu'))\n",
    "model.add(Dense(1, activation='sigmoid'))"
   ]
  },
  {
   "cell_type": "code",
   "execution_count": 11,
   "metadata": {},
   "outputs": [],
   "source": [
    "# compile the keras model\n",
    "model.compile(loss='binary_crossentropy', optimizer='adam', metrics=['accuracy'])"
   ]
  },
  {
   "cell_type": "code",
   "execution_count": 12,
   "metadata": {},
   "outputs": [],
   "source": [
    "# For visualization of network\n",
    "from ann_visualizer.visualize import ann_viz;\n",
    "\n",
    "ann_viz(model, view=True, filename=\"./data/network.gv\", title=\"Prediction Neural Network\")"
   ]
  },
  {
   "cell_type": "code",
   "execution_count": 13,
   "metadata": {},
   "outputs": [
    {
     "name": "stdout",
     "output_type": "stream",
     "text": [
      "Epoch 1/150\n",
      "77/77 [==============================] - 1s 992us/step - loss: 16.3041 - accuracy: 0.3776\n",
      "Epoch 2/150\n",
      "77/77 [==============================] - 0s 947us/step - loss: 1.8810 - accuracy: 0.5951\n",
      "Epoch 3/150\n",
      "77/77 [==============================] - 0s 1ms/step - loss: 1.3320 - accuracy: 0.5951\n",
      "Epoch 4/150\n",
      "77/77 [==============================] - 0s 1ms/step - loss: 1.1083 - accuracy: 0.5833\n",
      "Epoch 5/150\n",
      "77/77 [==============================] - 0s 1ms/step - loss: 0.9337 - accuracy: 0.5677\n",
      "Epoch 6/150\n",
      "77/77 [==============================] - 0s 979us/step - loss: 0.8155 - accuracy: 0.6172\n",
      "Epoch 7/150\n",
      "77/77 [==============================] - 0s 1ms/step - loss: 0.7935 - accuracy: 0.6237\n",
      "Epoch 8/150\n",
      "77/77 [==============================] - 0s 1ms/step - loss: 0.7489 - accuracy: 0.6172\n",
      "Epoch 9/150\n",
      "77/77 [==============================] - 0s 1ms/step - loss: 0.7194 - accuracy: 0.6133\n",
      "Epoch 10/150\n",
      "77/77 [==============================] - 0s 1ms/step - loss: 0.6899 - accuracy: 0.6562\n",
      "Epoch 11/150\n",
      "77/77 [==============================] - 0s 1ms/step - loss: 0.6565 - accuracy: 0.6536\n",
      "Epoch 12/150\n",
      "77/77 [==============================] - 0s 931us/step - loss: 0.6668 - accuracy: 0.6523\n",
      "Epoch 13/150\n",
      "77/77 [==============================] - 0s 974us/step - loss: 0.6481 - accuracy: 0.6732\n",
      "Epoch 14/150\n",
      "77/77 [==============================] - 0s 934us/step - loss: 0.6233 - accuracy: 0.6888\n",
      "Epoch 15/150\n",
      "77/77 [==============================] - 0s 962us/step - loss: 0.6542 - accuracy: 0.6771\n",
      "Epoch 16/150\n",
      "77/77 [==============================] - 0s 934us/step - loss: 0.6199 - accuracy: 0.6719\n",
      "Epoch 17/150\n",
      "77/77 [==============================] - 0s 991us/step - loss: 0.6177 - accuracy: 0.6836\n",
      "Epoch 18/150\n",
      "77/77 [==============================] - 0s 969us/step - loss: 0.6146 - accuracy: 0.6810\n",
      "Epoch 19/150\n",
      "77/77 [==============================] - 0s 939us/step - loss: 0.6112 - accuracy: 0.6771\n",
      "Epoch 20/150\n",
      "77/77 [==============================] - 0s 967us/step - loss: 0.6184 - accuracy: 0.6771\n",
      "Epoch 21/150\n",
      "77/77 [==============================] - 0s 985us/step - loss: 0.5936 - accuracy: 0.7057\n",
      "Epoch 22/150\n",
      "77/77 [==============================] - 0s 995us/step - loss: 0.6048 - accuracy: 0.7005\n",
      "Epoch 23/150\n",
      "77/77 [==============================] - 0s 1ms/step - loss: 0.5903 - accuracy: 0.7057\n",
      "Epoch 24/150\n",
      "77/77 [==============================] - 0s 1ms/step - loss: 0.5930 - accuracy: 0.7018\n",
      "Epoch 25/150\n",
      "77/77 [==============================] - 0s 1ms/step - loss: 0.5834 - accuracy: 0.6966\n",
      "Epoch 26/150\n",
      "77/77 [==============================] - 0s 1ms/step - loss: 0.6078 - accuracy: 0.6940\n",
      "Epoch 27/150\n",
      "77/77 [==============================] - 0s 1ms/step - loss: 0.5778 - accuracy: 0.7148\n",
      "Epoch 28/150\n",
      "77/77 [==============================] - 0s 1ms/step - loss: 0.5984 - accuracy: 0.6888\n",
      "Epoch 29/150\n",
      "77/77 [==============================] - 0s 1ms/step - loss: 0.5832 - accuracy: 0.7174\n",
      "Epoch 30/150\n",
      "77/77 [==============================] - 0s 1ms/step - loss: 0.5815 - accuracy: 0.7148\n",
      "Epoch 31/150\n",
      "77/77 [==============================] - 0s 1ms/step - loss: 0.5632 - accuracy: 0.7201\n",
      "Epoch 32/150\n",
      "77/77 [==============================] - 0s 1ms/step - loss: 0.5740 - accuracy: 0.6888\n",
      "Epoch 33/150\n",
      "77/77 [==============================] - 0s 1ms/step - loss: 0.5777 - accuracy: 0.7135\n",
      "Epoch 34/150\n",
      "77/77 [==============================] - 0s 1ms/step - loss: 0.5689 - accuracy: 0.7135\n",
      "Epoch 35/150\n",
      "77/77 [==============================] - 0s 1ms/step - loss: 0.5624 - accuracy: 0.7201\n",
      "Epoch 36/150\n",
      "77/77 [==============================] - 0s 1ms/step - loss: 0.5818 - accuracy: 0.7201\n",
      "Epoch 37/150\n",
      "77/77 [==============================] - 0s 1ms/step - loss: 0.5520 - accuracy: 0.7135\n",
      "Epoch 38/150\n",
      "77/77 [==============================] - 0s 976us/step - loss: 0.5729 - accuracy: 0.6862\n",
      "Epoch 39/150\n",
      "77/77 [==============================] - 0s 1ms/step - loss: 0.5672 - accuracy: 0.7161\n",
      "Epoch 40/150\n",
      "77/77 [==============================] - 0s 1ms/step - loss: 0.5508 - accuracy: 0.7253\n",
      "Epoch 41/150\n",
      "77/77 [==============================] - 0s 1ms/step - loss: 0.5639 - accuracy: 0.7227\n",
      "Epoch 42/150\n",
      "77/77 [==============================] - 0s 1ms/step - loss: 0.5526 - accuracy: 0.7188\n",
      "Epoch 43/150\n",
      "77/77 [==============================] - 0s 1ms/step - loss: 0.5472 - accuracy: 0.7357\n",
      "Epoch 44/150\n",
      "77/77 [==============================] - 0s 1ms/step - loss: 0.5413 - accuracy: 0.7292\n",
      "Epoch 45/150\n",
      "77/77 [==============================] - 0s 1ms/step - loss: 0.5537 - accuracy: 0.7148\n",
      "Epoch 46/150\n",
      "77/77 [==============================] - 0s 1ms/step - loss: 0.5720 - accuracy: 0.7292\n",
      "Epoch 47/150\n",
      "77/77 [==============================] - 0s 934us/step - loss: 0.5468 - accuracy: 0.7227\n",
      "Epoch 48/150\n",
      "77/77 [==============================] - 0s 930us/step - loss: 0.5621 - accuracy: 0.7161\n",
      "Epoch 49/150\n",
      "77/77 [==============================] - 0s 935us/step - loss: 0.5459 - accuracy: 0.7279\n",
      "Epoch 50/150\n",
      "77/77 [==============================] - 0s 929us/step - loss: 0.5949 - accuracy: 0.6979\n",
      "Epoch 51/150\n",
      "77/77 [==============================] - 0s 967us/step - loss: 0.5394 - accuracy: 0.7253\n",
      "Epoch 52/150\n",
      "77/77 [==============================] - 0s 926us/step - loss: 0.5626 - accuracy: 0.7201\n",
      "Epoch 53/150\n",
      "77/77 [==============================] - 0s 931us/step - loss: 0.5362 - accuracy: 0.7513\n",
      "Epoch 54/150\n",
      "77/77 [==============================] - 0s 930us/step - loss: 0.5450 - accuracy: 0.7122\n",
      "Epoch 55/150\n",
      "77/77 [==============================] - 0s 959us/step - loss: 0.5408 - accuracy: 0.7383\n",
      "Epoch 56/150\n",
      "77/77 [==============================] - 0s 982us/step - loss: 0.5535 - accuracy: 0.7279\n",
      "Epoch 57/150\n",
      "77/77 [==============================] - 0s 969us/step - loss: 0.5353 - accuracy: 0.7318\n",
      "Epoch 58/150\n",
      "77/77 [==============================] - 0s 992us/step - loss: 0.5475 - accuracy: 0.7409\n",
      "Epoch 59/150\n",
      "77/77 [==============================] - 0s 1ms/step - loss: 0.5346 - accuracy: 0.7422\n",
      "Epoch 60/150\n",
      "77/77 [==============================] - 0s 1ms/step - loss: 0.5383 - accuracy: 0.7266\n",
      "Epoch 61/150\n",
      "77/77 [==============================] - 0s 1ms/step - loss: 0.5390 - accuracy: 0.7370\n",
      "Epoch 62/150\n",
      "77/77 [==============================] - 0s 964us/step - loss: 0.5377 - accuracy: 0.7240\n",
      "Epoch 63/150\n",
      "77/77 [==============================] - 0s 970us/step - loss: 0.5297 - accuracy: 0.7474\n",
      "Epoch 64/150\n",
      "77/77 [==============================] - 0s 1ms/step - loss: 0.5408 - accuracy: 0.7409\n",
      "Epoch 65/150\n",
      "77/77 [==============================] - 0s 1ms/step - loss: 0.5785 - accuracy: 0.7057\n",
      "Epoch 66/150\n",
      "77/77 [==============================] - 0s 1ms/step - loss: 0.5585 - accuracy: 0.7161\n",
      "Epoch 67/150\n",
      "77/77 [==============================] - 0s 1ms/step - loss: 0.5259 - accuracy: 0.7435\n",
      "Epoch 68/150\n",
      "77/77 [==============================] - 0s 1ms/step - loss: 0.5353 - accuracy: 0.7305\n",
      "Epoch 69/150\n",
      "77/77 [==============================] - 0s 1ms/step - loss: 0.5254 - accuracy: 0.7461\n",
      "Epoch 70/150\n",
      "77/77 [==============================] - 0s 1ms/step - loss: 0.5427 - accuracy: 0.7214\n",
      "Epoch 71/150\n",
      "77/77 [==============================] - 0s 953us/step - loss: 0.5370 - accuracy: 0.7591\n",
      "Epoch 72/150\n",
      "77/77 [==============================] - 0s 977us/step - loss: 0.5298 - accuracy: 0.7474\n",
      "Epoch 73/150\n",
      "77/77 [==============================] - 0s 1ms/step - loss: 0.5325 - accuracy: 0.7305\n",
      "Epoch 74/150\n",
      "77/77 [==============================] - 0s 994us/step - loss: 0.5240 - accuracy: 0.7435\n",
      "Epoch 75/150\n",
      "77/77 [==============================] - 0s 939us/step - loss: 0.5359 - accuracy: 0.7344\n",
      "Epoch 76/150\n",
      "77/77 [==============================] - 0s 914us/step - loss: 0.5342 - accuracy: 0.7513\n",
      "Epoch 77/150\n",
      "77/77 [==============================] - 0s 918us/step - loss: 0.5366 - accuracy: 0.7318\n",
      "Epoch 78/150\n",
      "77/77 [==============================] - 0s 918us/step - loss: 0.5213 - accuracy: 0.7448\n",
      "Epoch 79/150\n",
      "77/77 [==============================] - 0s 1ms/step - loss: 0.5275 - accuracy: 0.7461\n",
      "Epoch 80/150\n",
      "77/77 [==============================] - 0s 1ms/step - loss: 0.5318 - accuracy: 0.7422\n",
      "Epoch 81/150\n",
      "77/77 [==============================] - 0s 1ms/step - loss: 0.5394 - accuracy: 0.7201\n",
      "Epoch 82/150\n"
     ]
    },
    {
     "name": "stdout",
     "output_type": "stream",
     "text": [
      "77/77 [==============================] - 0s 944us/step - loss: 0.5318 - accuracy: 0.7526\n",
      "Epoch 83/150\n",
      "77/77 [==============================] - 0s 910us/step - loss: 0.5411 - accuracy: 0.7279\n",
      "Epoch 84/150\n",
      "77/77 [==============================] - 0s 923us/step - loss: 0.5128 - accuracy: 0.7526\n",
      "Epoch 85/150\n",
      "77/77 [==============================] - 0s 962us/step - loss: 0.5222 - accuracy: 0.7409\n",
      "Epoch 86/150\n",
      "77/77 [==============================] - 0s 970us/step - loss: 0.5272 - accuracy: 0.7487\n",
      "Epoch 87/150\n",
      "77/77 [==============================] - 0s 956us/step - loss: 0.5191 - accuracy: 0.7383\n",
      "Epoch 88/150\n",
      "77/77 [==============================] - 0s 984us/step - loss: 0.5277 - accuracy: 0.7500\n",
      "Epoch 89/150\n",
      "77/77 [==============================] - 0s 917us/step - loss: 0.5447 - accuracy: 0.7344\n",
      "Epoch 90/150\n",
      "77/77 [==============================] - 0s 914us/step - loss: 0.5233 - accuracy: 0.7487\n",
      "Epoch 91/150\n",
      "77/77 [==============================] - 0s 1ms/step - loss: 0.5342 - accuracy: 0.7318\n",
      "Epoch 92/150\n",
      "77/77 [==============================] - 0s 1ms/step - loss: 0.5187 - accuracy: 0.7526\n",
      "Epoch 93/150\n",
      "77/77 [==============================] - 0s 1ms/step - loss: 0.5224 - accuracy: 0.7331\n",
      "Epoch 94/150\n",
      "77/77 [==============================] - 0s 1ms/step - loss: 0.5142 - accuracy: 0.7565\n",
      "Epoch 95/150\n",
      "77/77 [==============================] - 0s 1ms/step - loss: 0.5096 - accuracy: 0.7513\n",
      "Epoch 96/150\n",
      "77/77 [==============================] - 0s 1ms/step - loss: 0.5020 - accuracy: 0.7591\n",
      "Epoch 97/150\n",
      "77/77 [==============================] - 0s 1ms/step - loss: 0.5043 - accuracy: 0.7604\n",
      "Epoch 98/150\n",
      "77/77 [==============================] - 0s 959us/step - loss: 0.5131 - accuracy: 0.7617\n",
      "Epoch 99/150\n",
      "77/77 [==============================] - 0s 966us/step - loss: 0.4992 - accuracy: 0.7539\n",
      "Epoch 100/150\n",
      "77/77 [==============================] - 0s 943us/step - loss: 0.5134 - accuracy: 0.7552\n",
      "Epoch 101/150\n",
      "77/77 [==============================] - 0s 946us/step - loss: 0.5051 - accuracy: 0.7552\n",
      "Epoch 102/150\n",
      "77/77 [==============================] - 0s 994us/step - loss: 0.5032 - accuracy: 0.7552\n",
      "Epoch 103/150\n",
      "77/77 [==============================] - 0s 1ms/step - loss: 0.5076 - accuracy: 0.7435\n",
      "Epoch 104/150\n",
      "77/77 [==============================] - 0s 1ms/step - loss: 0.5214 - accuracy: 0.7617\n",
      "Epoch 105/150\n",
      "77/77 [==============================] - 0s 1ms/step - loss: 0.5093 - accuracy: 0.7513\n",
      "Epoch 106/150\n",
      "77/77 [==============================] - 0s 1ms/step - loss: 0.5090 - accuracy: 0.7435\n",
      "Epoch 107/150\n",
      "77/77 [==============================] - 0s 1ms/step - loss: 0.5173 - accuracy: 0.7435\n",
      "Epoch 108/150\n",
      "77/77 [==============================] - 0s 1ms/step - loss: 0.5134 - accuracy: 0.7500\n",
      "Epoch 109/150\n",
      "77/77 [==============================] - 0s 1ms/step - loss: 0.5015 - accuracy: 0.7422\n",
      "Epoch 110/150\n",
      "77/77 [==============================] - 0s 1ms/step - loss: 0.5076 - accuracy: 0.7617\n",
      "Epoch 111/150\n",
      "77/77 [==============================] - 0s 947us/step - loss: 0.4998 - accuracy: 0.7422\n",
      "Epoch 112/150\n",
      "77/77 [==============================] - 0s 962us/step - loss: 0.5105 - accuracy: 0.7461\n",
      "Epoch 113/150\n",
      "77/77 [==============================] - 0s 936us/step - loss: 0.5028 - accuracy: 0.7565\n",
      "Epoch 114/150\n",
      "77/77 [==============================] - 0s 949us/step - loss: 0.5035 - accuracy: 0.7565\n",
      "Epoch 115/150\n",
      "77/77 [==============================] - 0s 967us/step - loss: 0.5044 - accuracy: 0.7513\n",
      "Epoch 116/150\n",
      "77/77 [==============================] - 0s 1ms/step - loss: 0.5237 - accuracy: 0.7565\n",
      "Epoch 117/150\n",
      "77/77 [==============================] - 0s 1ms/step - loss: 0.4922 - accuracy: 0.7604\n",
      "Epoch 118/150\n",
      "77/77 [==============================] - 0s 1ms/step - loss: 0.4907 - accuracy: 0.7617\n",
      "Epoch 119/150\n",
      "77/77 [==============================] - 0s 960us/step - loss: 0.4973 - accuracy: 0.7643\n",
      "Epoch 120/150\n",
      "77/77 [==============================] - 0s 952us/step - loss: 0.5194 - accuracy: 0.7318\n",
      "Epoch 121/150\n",
      "77/77 [==============================] - 0s 1ms/step - loss: 0.5040 - accuracy: 0.7552\n",
      "Epoch 122/150\n",
      "77/77 [==============================] - 0s 1ms/step - loss: 0.5046 - accuracy: 0.7682\n",
      "Epoch 123/150\n",
      "77/77 [==============================] - 0s 997us/step - loss: 0.5027 - accuracy: 0.7318\n",
      "Epoch 124/150\n",
      "77/77 [==============================] - 0s 1ms/step - loss: 0.4909 - accuracy: 0.7734\n",
      "Epoch 125/150\n",
      "77/77 [==============================] - 0s 1ms/step - loss: 0.5179 - accuracy: 0.7331\n",
      "Epoch 126/150\n",
      "77/77 [==============================] - 0s 1ms/step - loss: 0.4932 - accuracy: 0.7708\n",
      "Epoch 127/150\n",
      "77/77 [==============================] - 0s 1ms/step - loss: 0.5036 - accuracy: 0.7643\n",
      "Epoch 128/150\n",
      "77/77 [==============================] - 0s 1ms/step - loss: 0.4899 - accuracy: 0.7773\n",
      "Epoch 129/150\n",
      "77/77 [==============================] - 0s 967us/step - loss: 0.4879 - accuracy: 0.7643\n",
      "Epoch 130/150\n",
      "77/77 [==============================] - 0s 982us/step - loss: 0.5023 - accuracy: 0.7643\n",
      "Epoch 131/150\n",
      "77/77 [==============================] - 0s 1ms/step - loss: 0.4924 - accuracy: 0.7695\n",
      "Epoch 132/150\n",
      "77/77 [==============================] - 0s 1ms/step - loss: 0.4917 - accuracy: 0.7734\n",
      "Epoch 133/150\n",
      "77/77 [==============================] - 0s 1ms/step - loss: 0.4890 - accuracy: 0.7747\n",
      "Epoch 134/150\n",
      "77/77 [==============================] - 0s 1ms/step - loss: 0.4856 - accuracy: 0.7682\n",
      "Epoch 135/150\n",
      "77/77 [==============================] - 0s 1ms/step - loss: 0.4981 - accuracy: 0.7721\n",
      "Epoch 136/150\n",
      "77/77 [==============================] - 0s 1ms/step - loss: 0.4902 - accuracy: 0.7591\n",
      "Epoch 137/150\n",
      "77/77 [==============================] - 0s 1ms/step - loss: 0.5037 - accuracy: 0.7487\n",
      "Epoch 138/150\n",
      "77/77 [==============================] - 0s 1ms/step - loss: 0.4925 - accuracy: 0.7695\n",
      "Epoch 139/150\n",
      "77/77 [==============================] - 0s 1ms/step - loss: 0.5003 - accuracy: 0.7708\n",
      "Epoch 140/150\n",
      "77/77 [==============================] - 0s 963us/step - loss: 0.4899 - accuracy: 0.7695\n",
      "Epoch 141/150\n",
      "77/77 [==============================] - 0s 977us/step - loss: 0.4989 - accuracy: 0.7565\n",
      "Epoch 142/150\n",
      "77/77 [==============================] - 0s 1ms/step - loss: 0.4787 - accuracy: 0.7669\n",
      "Epoch 143/150\n",
      "77/77 [==============================] - 0s 1ms/step - loss: 0.4931 - accuracy: 0.7643\n",
      "Epoch 144/150\n",
      "77/77 [==============================] - 0s 997us/step - loss: 0.4880 - accuracy: 0.7682\n",
      "Epoch 145/150\n",
      "77/77 [==============================] - 0s 941us/step - loss: 0.4881 - accuracy: 0.7839\n",
      "Epoch 146/150\n",
      "77/77 [==============================] - 0s 920us/step - loss: 0.4803 - accuracy: 0.7721\n",
      "Epoch 147/150\n",
      "77/77 [==============================] - 0s 924us/step - loss: 0.4897 - accuracy: 0.7734\n",
      "Epoch 148/150\n",
      "77/77 [==============================] - 0s 919us/step - loss: 0.4844 - accuracy: 0.7695\n",
      "Epoch 149/150\n",
      "77/77 [==============================] - 0s 935us/step - loss: 0.4879 - accuracy: 0.7617\n",
      "Epoch 150/150\n",
      "77/77 [==============================] - 0s 933us/step - loss: 0.4965 - accuracy: 0.7578\n"
     ]
    },
    {
     "data": {
      "text/plain": [
       "<keras.callbacks.History at 0x7f8532106610>"
      ]
     },
     "execution_count": 13,
     "metadata": {},
     "output_type": "execute_result"
    }
   ],
   "source": [
    "# fit the keras model on the dataset\n",
    "model.fit(X, y, epochs=150, batch_size=10)"
   ]
  },
  {
   "cell_type": "code",
   "execution_count": 14,
   "metadata": {},
   "outputs": [
    {
     "name": "stdout",
     "output_type": "stream",
     "text": [
      "24/24 [==============================] - 0s 861us/step - loss: 0.4907 - accuracy: 0.7812\n",
      "Accuracy: 78.12\n"
     ]
    }
   ],
   "source": [
    "# evaluate the keras model\n",
    "_, accuracy = model.evaluate(X, y)\n",
    "print('Accuracy: %.2f' % (accuracy*100))"
   ]
  },
  {
   "cell_type": "code",
   "execution_count": 15,
   "metadata": {},
   "outputs": [
    {
     "name": "stdout",
     "output_type": "stream",
     "text": [
      "Model: \"sequential\"\n",
      "_________________________________________________________________\n",
      " Layer (type)                Output Shape              Param #   \n",
      "=================================================================\n",
      " dense (Dense)               (None, 12)                108       \n",
      "                                                                 \n",
      " dense_1 (Dense)             (None, 8)                 104       \n",
      "                                                                 \n",
      " dense_2 (Dense)             (None, 1)                 9         \n",
      "                                                                 \n",
      "=================================================================\n",
      "Total params: 221\n",
      "Trainable params: 221\n",
      "Non-trainable params: 0\n",
      "_________________________________________________________________\n"
     ]
    }
   ],
   "source": [
    "# See summary of the model\n",
    "model.summary()"
   ]
  },
  {
   "cell_type": "code",
   "execution_count": 16,
   "metadata": {},
   "outputs": [
    {
     "name": "stdout",
     "output_type": "stream",
     "text": [
      "24/24 [==============================] - 0s 724us/step\n"
     ]
    }
   ],
   "source": [
    "# Make predictions. Assuming X is also the data to predict on\n",
    "predictions = model.predict(X)"
   ]
  },
  {
   "cell_type": "code",
   "execution_count": 17,
   "metadata": {},
   "outputs": [
    {
     "name": "stdout",
     "output_type": "stream",
     "text": [
      "[6.0, 148.0, 72.0, 35.0, 0.0, 33.6, 0.627, 50.0] => 0 (expected 1)\n",
      "[1.0, 85.0, 66.0, 29.0, 0.0, 26.6, 0.351, 31.0] => 0 (expected 0)\n",
      "[8.0, 183.0, 64.0, 0.0, 0.0, 23.3, 0.672, 32.0] => 0 (expected 1)\n",
      "[1.0, 89.0, 66.0, 23.0, 94.0, 28.1, 0.167, 21.0] => 0 (expected 0)\n",
      "[0.0, 137.0, 40.0, 35.0, 168.0, 43.1, 2.288, 33.0] => 0 (expected 1)\n"
     ]
    }
   ],
   "source": [
    "# summarize the first 5 cases\n",
    "for i in range(5):\n",
    "    print('%s => %d (expected %d)' % (X[i].tolist(), predictions[i], y[i]))"
   ]
  },
  {
   "cell_type": "code",
   "execution_count": null,
   "metadata": {},
   "outputs": [],
   "source": []
  }
 ],
 "metadata": {
  "kernelspec": {
   "display_name": "Python 3",
   "language": "python",
   "name": "python3"
  },
  "language_info": {
   "codemirror_mode": {
    "name": "ipython",
    "version": 3
   },
   "file_extension": ".py",
   "mimetype": "text/x-python",
   "name": "python",
   "nbconvert_exporter": "python",
   "pygments_lexer": "ipython3",
   "version": "3.7.6"
  }
 },
 "nbformat": 4,
 "nbformat_minor": 4
}
