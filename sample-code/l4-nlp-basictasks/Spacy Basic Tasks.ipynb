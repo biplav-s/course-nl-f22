{
 "cells": [
  {
   "cell_type": "code",
   "execution_count": 1,
   "id": "6d6f2a06",
   "metadata": {},
   "outputs": [],
   "source": [
    "## Based on https://github.com/biplav-s/course-nl/blob/master/l5-syntax/parsing%20spacy.ipynb\n"
   ]
  },
  {
   "cell_type": "code",
   "execution_count": 2,
   "id": "866628b3",
   "metadata": {},
   "outputs": [],
   "source": [
    "## Install spacy as needed\n",
    "#!pip install -U spacy"
   ]
  },
  {
   "cell_type": "code",
   "execution_count": 3,
   "id": "ec8964e8",
   "metadata": {},
   "outputs": [],
   "source": [
    "# Do imports\n",
    "import spacy"
   ]
  },
  {
   "cell_type": "code",
   "execution_count": 4,
   "id": "eed8ea1b",
   "metadata": {},
   "outputs": [],
   "source": [
    "## Download the small core model; others are medium and large\n",
    "#!python -m spacy download en_core_web_sm"
   ]
  },
  {
   "cell_type": "code",
   "execution_count": 5,
   "id": "f46b0cc7",
   "metadata": {},
   "outputs": [],
   "source": [
    "nlp = spacy.load('en_core_web_sm')"
   ]
  },
  {
   "cell_type": "code",
   "execution_count": 6,
   "id": "6c2171b1",
   "metadata": {},
   "outputs": [],
   "source": [
    "# Prepare string\n",
    "text = (\"The authority did not permit giving of fishing permit.\")\n",
    "doc = nlp(text)"
   ]
  },
  {
   "cell_type": "code",
   "execution_count": 7,
   "id": "3ba039bf",
   "metadata": {},
   "outputs": [
    {
     "name": "stdout",
     "output_type": "stream",
     "text": [
      "['The', 'authority', 'did', 'not', 'permit', 'giving', 'of', 'fishing', 'permit', '.']\n"
     ]
    }
   ],
   "source": [
    "# Print tokens\n",
    "print ([token.text for token in doc])\n"
   ]
  },
  {
   "cell_type": "code",
   "execution_count": 8,
   "id": "19007cce",
   "metadata": {},
   "outputs": [
    {
     "name": "stdout",
     "output_type": "stream",
     "text": [
      "[('The', 'the'), ('authority', 'authority'), ('did', 'do'), ('not', 'not'), ('permit', 'permit'), ('giving', 'give'), ('of', 'of'), ('fishing', 'fishing'), ('permit', 'permit'), ('.', '.')]\n"
     ]
    }
   ],
   "source": [
    "# Print tokens and lemmas\n",
    "print ([(token.text, token.lemma_) for token in doc])\n"
   ]
  },
  {
   "cell_type": "code",
   "execution_count": 9,
   "id": "24d39378",
   "metadata": {},
   "outputs": [
    {
     "name": "stdout",
     "output_type": "stream",
     "text": [
      "The :  DT ;  DET ;  determiner\n",
      "authority :  NN ;  NOUN ;  noun, singular or mass\n",
      "did :  VBD ;  AUX ;  verb, past tense\n",
      "not :  RB ;  PART ;  adverb\n",
      "permit :  VB ;  VERB ;  verb, base form\n",
      "giving :  VBG ;  VERB ;  verb, gerund or present participle\n",
      "of :  IN ;  ADP ;  conjunction, subordinating or preposition\n",
      "fishing :  NN ;  NOUN ;  noun, singular or mass\n",
      "permit :  NN ;  NOUN ;  noun, singular or mass\n",
      ". :  . ;  PUNCT ;  punctuation mark, sentence closer\n"
     ]
    }
   ],
   "source": [
    "# Parts of speech\n",
    "for token in doc:\n",
    "    print (token, \": \", token.tag_, \"; \", token.pos_, \"; \", spacy.explain(token.tag_))"
   ]
  },
  {
   "cell_type": "code",
   "execution_count": null,
   "id": "a12fac0f",
   "metadata": {},
   "outputs": [],
   "source": []
  }
 ],
 "metadata": {
  "kernelspec": {
   "display_name": "Python 3",
   "language": "python",
   "name": "python3"
  },
  "language_info": {
   "codemirror_mode": {
    "name": "ipython",
    "version": 3
   },
   "file_extension": ".py",
   "mimetype": "text/x-python",
   "name": "python",
   "nbconvert_exporter": "python",
   "pygments_lexer": "ipython3",
   "version": "3.7.6"
  }
 },
 "nbformat": 4,
 "nbformat_minor": 5
}
